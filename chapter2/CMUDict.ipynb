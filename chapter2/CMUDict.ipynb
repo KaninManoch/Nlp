{
 "cells": [
  {
   "cell_type": "markdown",
   "metadata": {},
   "source": [
    "# A CMU Pronunciation Dictionary (CMUDict) \n",
    "\n",
    "คลังคำประกอบด้วยคำ และคุณลักษณะของคำ \n",
    "\n",
    "#### CMU Pronouncing Dictionary เป็นคลังคำที่ออกแบบสำหรับใช้ในการสังเคราะห์เสียงภาษาอังกฤษแบบอเมริกัน\n",
    "\n",
    "โครงสร้างของคลังคำเป็นดังนี้ ข้อมูลของคำศัพท์จะเก็บอยู่ใน tuple เรียกว่า entry ประกอบไปด้วย 2 ส่วน คือ คำศัพท์ \n",
    "และการออกเสียงของคำศัพท์คำนั้น เก็บเป็นลิสต์ของสัญลักษณ์ที่ใช้แทนหน่วยเสียง (phonemes) โดยสัญลักษณ์ที่ใช้อ้างอิงจาก ARPAbet (อ่านเพิ่มเติมได้ที่ http://en.wikipedia.org/wiki/Arpabet)\n",
    "\n",
    "อธิบายตัวอย่างคำสั่ง\n",
    "\n",
    "คลังคำใน CMUDict ประกอบด้วย 133,737 entries\n",
    "ตัวอย่างคำว่า fire มี 2 entries นั่นคือ คำนี้อ่านได้สองแบบ คือ \n",
    "- แบบที่ 1 ออกเสียง 1 พยางค์ประกอบด้วย phoneme 3 ตัว ได้แก่ F, AY1, R \n",
    "- แบบที่ 2 ออกเสียง 2 พยางค์ประกอบด้วย phoneme 3 ตัว ได้แก่ F, AY1, ER0"
   ]
  },
  {
   "cell_type": "code",
   "execution_count": 18,
   "metadata": {},
   "outputs": [
    {
     "name": "stdout",
     "output_type": "stream",
     "text": [
      "133737\n",
      "('fir', ['F', 'ER1'])\n",
      "('fire', ['F', 'AY1', 'ER0'])\n",
      "('fire', ['F', 'AY1', 'R'])\n",
      "('firearm', ['F', 'AY1', 'ER0', 'AA2', 'R', 'M'])\n",
      "('firearm', ['F', 'AY1', 'R', 'AA2', 'R', 'M'])\n",
      "('firearms', ['F', 'AY1', 'ER0', 'AA2', 'R', 'M', 'Z'])\n",
      "('firearms', ['F', 'AY1', 'R', 'AA2', 'R', 'M', 'Z'])\n",
      "('fireball', ['F', 'AY1', 'ER0', 'B', 'AO2', 'L'])\n"
     ]
    }
   ],
   "source": [
    "import nltk\n",
    "from nltk.corpus import cmudict\n",
    "entries = cmudict.entries()\n",
    "print(len(entries))\n",
    "for entry in entries[42371:42379]:\n",
    "    print(entry)"
   ]
  },
  {
   "cell_type": "markdown",
   "metadata": {},
   "source": [
    "### ตัวอย่างการใช้คลัง CMUDict\n",
    "\n",
    "เราสามารถประมวลผลข้อมูลทั้งสองส่วนในแต่ละ entry ให้แยกส่วนกันได้ โดยใช้ตัวแปร 2 ตัวในการเก็บข้อมูลแต่ละตัวใน entry \n",
    "\n",
    "ตัวอย่างคำสั่งในบรรทัดที่ 1 เราเก็บคำศัพท์ไว้ในตัวแปร word และเก็บลิสต์ของ phoneme ไว้ในตัวแปร pron\n",
    "โดยทำซ้ำกับทุก entry ใน CMUDict เพื่อหาการออกเสียงที่ประกอบด้วย phoneme 3 ตัว โดยมีเสียงแรกเป็น phoneme 'P' และเสียงสุดท้ายออกเสียงเป็น phoneme 'T'"
   ]
  },
  {
   "cell_type": "code",
   "execution_count": 3,
   "metadata": {},
   "outputs": [
    {
     "name": "stdout",
     "output_type": "stream",
     "text": [
      "pait EY1\n",
      "pat AE1\n",
      "pate EY1\n",
      "patt AE1\n",
      "peart ER1\n",
      "peat IY1\n",
      "peet IY1\n",
      "peete IY1\n",
      "pert ER1\n",
      "pet EH1\n",
      "pete IY1\n",
      "pett EH1\n",
      "piet IY1\n",
      "piette IY1\n",
      "pit IH1\n",
      "pitt IH1\n",
      "pot AA1\n",
      "pote OW1\n",
      "pott AA1\n",
      "pout AW1\n",
      "puett UW1\n",
      "purt ER1\n",
      "put UH1\n",
      "putt AH1\n"
     ]
    }
   ],
   "source": [
    "for word, pron in entries: \n",
    "    if len(pron) == 3:\n",
    "        ph1, ph2, ph3 = pron\n",
    "        if ph1 == 'P' and ph3 == 'T':\n",
    "            print(word, ph2)"
   ]
  },
  {
   "cell_type": "markdown",
   "metadata": {},
   "source": [
    "ตัวอย่างโปรแกรมที่การสร้าง list comprehension เพื่อเก็บคำที่ออกเสียงพยางค์สุดท้ายคล้ายคำว่า nicks \n",
    "สังเกตเสียงพยางค์สุดท้ายสามารถสะกดได้หลายแบบ เช่น nics, niks, และ nix หรือ nitc's ที่ไม่ออกเสียง t ข้างท้าย\n",
    "ในคำว่า atlantic's"
   ]
  },
  {
   "cell_type": "code",
   "execution_count": 7,
   "metadata": {},
   "outputs": [
    {
     "name": "stdout",
     "output_type": "stream",
     "text": [
      "[\"atlantic's\", 'audiotronics', 'avionics', 'beatniks', 'calisthenics', 'centronics', 'chamonix', 'chetniks', \"clinic's\", 'clinics', 'conics', 'conics', 'cryogenics', 'cynics', 'diasonics', \"dominic's\", 'ebonics', 'electronics', \"electronics'\", \"endotronics'\", 'endotronics', 'enix', 'environics', 'ethnics', 'eugenics', 'fibronics', 'flextronics', 'harmonics', 'hispanics', 'histrionics', 'identics', 'ionics', 'kibbutzniks', 'lasersonics', 'lumonics', 'mannix', 'mechanics', \"mechanics'\", 'microelectronics', 'minix', 'minnix', 'mnemonics', 'mnemonics', 'molonicks', 'mullenix', 'mullenix', 'mullinix', 'mulnix', \"munich's\", 'nucleonics', 'onyx', 'organics', \"panic's\", 'panics', 'penix', 'pennix', 'personics', 'phenix', \"philharmonic's\", 'phoenix', 'phonics', 'photronics', 'pinnix', 'plantronics', 'pyrotechnics', 'refuseniks', \"resnick's\", 'respironics', 'sconnix', 'siliconix', 'skolniks', 'sonics', 'sputniks', 'technics', 'tectonics', 'tektronix', 'telectronics', 'telephonics', 'tonics', 'unix', \"vinick's\", \"vinnick's\", 'vitronics']\n"
     ]
    }
   ],
   "source": [
    "syllable = ['N', 'IH0', 'K', 'S']\n",
    "nihks_word = [word for word, pron in entries if pron[-4:] == syllable]\n",
    "print(nihks_word)"
   ]
  },
  {
   "cell_type": "markdown",
   "metadata": {},
   "source": [
    "จากตัวอย่างโปรแกรมด้านล่างนี้ ลองพิจารณาดูว่าโปรแกรมทำงานอย่างไร และวัตถุประสงค์ของโปรแกรมนี้คืออะไร"
   ]
  },
  {
   "cell_type": "code",
   "execution_count": 8,
   "metadata": {},
   "outputs": [
    {
     "name": "stdout",
     "output_type": "stream",
     "text": [
      "['autumn', 'column', 'condemn', 'damn', 'goddamn', 'hymn', 'solemn']\n",
      "['gn', 'kn', 'mn', 'pn']\n"
     ]
    }
   ],
   "source": [
    "Mn = [w for w, pron in entries if pron[-1] == 'M' and w[-1] == 'n']\n",
    "Nn = sorted(set(w[:2] for w, pron in entries if pron[0] == 'N' and w[0] != 'n'))\n",
    "print(Mn)\n",
    "print(Nn)"
   ]
  },
  {
   "cell_type": "markdown",
   "metadata": {},
   "source": [
    "เสียงของ phoneme ที่ลงท้ายด้วยตัวเลขจะหมายถึงเสียงสระที่มีการเน้นเสียง โดยเลข 0 หมายถึง ไม่มีการเน้นเสียง เลข 1 หมายถึงออกเสียงเน้นหนักที่สุด และเลข 2 หมายถึงออกเสียงเน้นเสียงรองลงมา\n",
    "\n",
    "ตัวอย่างต่อไปนี้เป็นฟังก์ชัน stress ที่ใช้ในการหารูปแบบของการเน้นเสียงของคำ และตัวอย่างการเรียกใช้ฟังก์ชัน stress ในการหาคำที่มีรูปแบบการเน้นเสียงของคำที่ตรงกับ pattern ที่ระบุ"
   ]
  },
  {
   "cell_type": "code",
   "execution_count": 11,
   "metadata": {},
   "outputs": [
    {
     "name": "stdout",
     "output_type": "stream",
     "text": [
      "['abbreviated', 'abbreviated', 'abbreviating', 'accelerated', 'accelerating', 'accelerator', 'accelerators', 'accentuated', 'accentuating', 'accommodated', 'accommodating', 'accommodative', 'accumulated', 'accumulating', 'accumulative', 'accumulator', 'accumulators', 'accusatory', 'adenovirus', 'adjudicated', 'adjudicating', 'administrating', 'administrative', 'administrator', \"administrators'\", \"administrator's\", 'administrators', 'adulterated', 'adventurism', 'adventurism', 'affiliated', 'affiliated', \"affiliated's\", 'affiliating', 'alleviated', 'alleviated', 'alleviating', 'alliteration', 'alliterative', 'amalgamated', \"amalgamated's\", 'amalgamating', 'ameliorated', 'ameridata', 'amoxicillin', 'anachronism', 'anachronisms', 'annihilated', 'annihilating', 'antagonism', 'antagonisms', 'antagonizing', 'anticipated', 'anticipated', 'anticipating', 'apologizes', 'apologizing', 'apothecary', 'appreciated', 'appreciating', 'appreciative', 'appropriated', 'appropriating', 'appropriator', 'appropriators', 'approximated', 'approximating', 'articulated', 'articulating', 'asphyxiated', 'asphyxiating', 'assassinated', 'assassinating', 'assemblywoman', 'assimilated', 'assimilating', 'associated', 'associated', 'associating', 'astigmatism', 'attenuated', 'authenticated', 'authenticating', 'authoritative', 'bicentenary', 'bilingualism', 'biosciences', 'buchananism', 'cadiddlehopper', 'capitulated', 'catholicism', 'celebratory', 'coagulating', 'cogenerator', 'cogenerators', 'collaborated', 'collaborated', 'collaborating', 'collaborative', 'collaborator', 'collaborators', 'collectivism', 'commemorated', 'commemorating', 'commemorative', 'commercialism', 'commercializing', 'communicated', 'communicating', 'communicator', 'compensatory', 'computerizing', 'computervision', 'concatenated', 'concatenating', 'concessionary', 'conciliator', \"conciliator's\", 'conciliatory', 'confectionaries', 'confectionary', 'confectionery', 'confirmatory', 'confiscatory', 'confucianism', 'congratulated', 'congratulating', 'conservatism', 'conservatories', 'consolidated', \"consolidated's\", 'consolidating', 'consolidator', 'consolidators', 'constabulary', 'construcciones', 'consumerism', 'contaminated', 'contaminated', 'contaminating', 'contemporaries', 'contemporary', 'contributory', 'cooperated', 'cooperating', 'cooperative', 'coordinating', 'coordinator', 'coordinators', 'corroborated', 'corroborating', 'creationism', 'debilitated', 'debilitating', 'decaffeinated', 'decaffeinating', 'decapitated', 'decelerated', 'decelerating', 'decentralizing', 'decisionmaker', 'decisionmaking', 'declaratory', 'deemphasizing', 'defamatory', 'defibrillator', 'defibrillators', 'deflationary', 'degenerated', 'degenerating', 'dehumanizing', 'deliberated', 'deliberating', 'deliberative', 'delineated', 'delineating', 'demobilizes', 'demobilizing', 'democratizes', 'democratizing', 'demoralizing', 'denominated', 'denominator', 'depilatory', 'depositary', 'depositary', 'depository', 'depreciated', 'depreciating', 'depressurizes', 'depressurizing', 'deregulating', 'derogatory', 'desegregated', 'desensitizing', 'destabilizing', 'determinism', 'devaluated', 'diastrophism', 'dilapidated', 'discretionary', 'discriminated', 'discriminated', 'discriminating', 'disintegrated', 'disintegrating', 'disoriented', 'disorienting', 'disqualifying', 'disseminated', 'disseminating', 'diversifying', 'diversifying', 'diversionary', 'diversionary', 'domesticated', 'domesticating', 'economizes', 'economizes', 'economizing', 'economizing', 'elaborating', 'electrifying', 'electrocuted', 'electroplating', 'eliminated', 'eliminated', 'eliminating', 'elucidated', 'elucidative', 'emaciated', 'emaciating', 'emancipated', 'emancipating', 'emasculated', 'empiricism', 'emulsifier', 'encapsulated', 'encapsulating', 'enthusiasm', 'enthusiasms', 'enumerated', 'enunciated', 'enunciating', 'epistolary', 'epitomizes', 'equivocating', 'eradicated', 'eradicating', 'eroticism', 'evacuated', 'evacuated', 'evacuating', 'evacuating', 'evaluated', 'evaluated', 'evaluating', 'evaluating', 'evangelism', 'evangelism', 'evaporated', 'evaporated', 'evaporated', 'evaporated', 'evaporating', 'evaporating', 'evaporator', 'evaporator', 'eviscerated', 'exacerbated', 'exacerbated', 'exacerbating', 'exaggerated', 'exaggerated', 'exaggerating', 'exasperated', 'exasperating', 'exclusionary', 'excoriated', 'excoriating', 'excoriation', 'excruciating', 'exemplifying', 'exhilarated', 'exhilarating', 'exonerated', 'exonerating', 'expansionary', 'expansionary', 'expansionism', 'expansionism', 'experimenter', 'experimenters', 'experimenting', 'expiratory', 'explanatory', 'exploratory', 'exploravision', 'expressionism', 'expropriated', 'extenuating', 'exterminated', 'exterminating', 'exterminator', 'exterminators', 'extraordinary', 'extrapolated', 'extrapolating', 'facilitated', 'facilitating', 'facilitator', \"facilitator's\", 'facilitators', 'fanaticism', 'fiduciares', 'fiduciaries', 'fiduciary', 'ganatieuganauf', 'geotropism', 'hereditary', 'humidifier', 'humidifiers', 'humiliated', 'humiliating', 'hydrogenated', 'identifier', 'identifier', 'identifying', 'identifying', 'illuminated', 'illuminating', 'illuminator', 'illusionary', 'illusionism', 'imaginary', 'immeasurable', 'immeasurably', 'immobilizing', 'impersonated', 'impersonating', 'impersonators', 'impressionism', 'inaccuracies', 'inactivated', 'inaugurated', 'inaugurated', 'inaugurating', 'incantatory', 'incarcerated', 'incarcerating', 'incinerated', 'incinerating', 'incineration', 'incinerator', 'incinerators', 'inconsistencies', 'incorporated', 'incorporated', \"incorporated's\", 'incorporating', 'incriminating', 'indisputably', 'indoctrinated', 'inebriated', 'inebriating', 'infatuated', 'infatuating', 'inflammatory', 'inflationary', 'infuriated', 'infuriated', 'infuriating', 'ingratiating', 'inhibitory', 'initiated', 'initiated', 'initiating', 'innoculated', 'innoculating', 'inoculated', 'instantiated', 'instantiating', 'intensifying', 'interrogated', 'interrogating', 'intimidated', 'intimidating', 'intoxicated', 'intoxicated', 'intoxicating', 'invalidated', 'invalidated', 'invalidating', 'investigated', 'investigated', 'investigating', 'investigative', 'investigator', \"investigator's\", 'investigators', \"investigators'\", 'invigorated', 'invigorating', 'involuntary', 'irradiated', 'itineraries', 'itinerary', 'judiciary', 'legitimizes', 'legitimizing', 'manipulated', 'manipulating', 'manipulative', 'manipulator', 'manipulators', 'mercantilism', 'metabolism', 'metabolisms', 'misallocated', 'misallocating', 'miscalculated', 'misrecognizes', 'misrecognizing', 'monasticism', 'monopolizes', 'monopolizing', 'necessitated', 'necessitating', 'negotiated', 'negotiated', 'negotiating', 'negotiator', 'negotiator', \"negotiators'\", \"negotiator's\", 'negotiators', 'nonmilitary', 'nonregulated', 'obituaries', 'obituary', 'obligatory', 'obliterated', 'obliterating', 'observatories', 'observatory', \"observatory's\", 'obstructionism', 'officiated', 'officiating', 'opinionated', 'originated', 'originated', 'originating', 'originator', 'originators', 'participated', 'participated', 'participating', 'paternalism', 'pecuniary', 'perfectionism', 'perpetuated', 'perpetuating', 'personifying', 'pituitary', 'pituitary', 'politicizing', 'pontificated', 'pontificater', 'pontificaters', 'pontificating', 'precipitated', 'precipitating', 'predominated', 'predominating', 'prefabricated', 'prekindergarten', 'preliminaries', 'preliminaries', 'preliminary', 'preliminary', 'premeditated', 'preparatory', 'prioritizes', 'prioritizing', 'probationary', 'procrastinated', 'procrastinating', 'procrastinator', 'procrastinators', 'prohibitory', 'proliferated', 'proliferating', 'proprietaries', 'proprietary', 'protectionism', 'protectionism', 'provincialism', 'reactionaries', 'reactionary', 'reallocating', 'reanalyses', 'reanalysing', 'reauthorizing', 'recalculated', 'recalculating', 'recessionary', 'recidivism', 'reciprocated', 'reciprocating', 'reclassifying', 'reconstituted', 'reconstituting', 'recuperated', 'recuperater', 'recuperating', 'recuperating', 'redecorated', 'redecorating', 'reformatories', 'reformatory', 'reformulated', 'refrigerated', 'refrigerator', 'refrigerator', 'refrigerators', 'regenerated', 'regenerating', 'reinstituting', 'reintegrated', 'reintegration', 'reiterated', 'reiterating', 'rejuvenated', 'rejuvenating', 'renominated', 'reorganizes', 'reorganizing', 'repatriated', 'repatriating', 'repositories', 'repository', 'repudiated', 'repudiating', 'resuscitated', 'resuscitating', 'retaliated', 'retaliated', 'retaliating', 'retaliatory', 'revelatory', 'reverberated', 'reverberated', 'reverberated', 'reverberating', 'reverberating', 'revisionism', 'revitalizing', 'romanticism', 'romanticizing', 'securitizing', 'solidifying', 'sophisticated', 'sophisticated', 'subordinated', 'subordinating', 'subsidiaries', \"subsidiaries'\", 'subsidiary', \"subsidiary's\", 'substantiated', 'substantiated', 'surrealism', \"surrealism's\", 'surrealisms', 'unallocated', 'uncompensated', 'uncomplicated', 'uneducated', 'unmitigated', 'unnecessary', 'unprecedented', 'unregulated', 'unsanitary', 'unsatisfying', 'unsaturated', 'velociraptor', 'vocabulary', 'voluntarism']\n",
      "\n"
     ]
    },
    {
     "name": "stdout",
     "output_type": "stream",
     "text": [
      "['abbreviation', 'abbreviations', 'abomination', 'abortifacient', 'abortifacients', 'academicians', 'accommodation', 'accommodations', 'accreditation', 'accreditations', 'accumulation', 'accumulations', 'acetylcholine', 'acetylcholine', 'adjudication', 'administration', \"administration's\", 'administrations', \"administrations'\", 'aduliadae', 'adulteration', 'affiliation', 'affiliations', 'aficionados', 'agglomeration', 'ahasuerus', 'ajinomoto', 'alleviation', 'amalgamation', 'ambrosiano', 'amelioration', 'americana', \"americana's\", 'americanas', 'americano', 'americanos', 'anachronistic', 'anencephalic', 'annihilation', 'antagonistic', 'anticipation', 'anticipations', 'apocalyptic', 'apologetic', 'apotheosis', 'appreciation', 'appropriation', 'appropriations', 'approximation', 'approximations', 'aristocratic', 'arunachalam', 'assassination', 'assassinations', 'assimilation', 'association', 'association', 'associations', \"association's\", 'associations', 'authentication', 'authentications', 'bancoklahoma', 'biagioni', 'boguslavskaya', 'bollapragada', 'bollettieri', 'burkina-faso', \"burkina-faso's\", 'canariensis', 'capitulation', 'cartusciello', 'catacosinos', 'cohabitation', 'coincidental', 'collaboration', 'commemoration', 'commemorations', 'communication', 'communications', \"communications'\", \"communication's\", 'concatenation', 'conciliation', 'confabulation', 'confederation', 'configuration', 'configurations', 'conglomeration', 'congratulation', 'congratulations', 'conigliaro', 'consideration', 'considerations', 'consolidation', 'consolidations', 'contamination', 'continuation', 'controladora', 'cooperation', 'cooperations', 'coordination', 'corroboration', 'decaffeination', 'decapitation', 'decapitations', 'deceleration', 'deforestation', 'degeneration', 'deliberation', 'deliberations', 'delineation', 'denomination', \"denomination's\", 'denominations', 'denunciation', 'denunciations', 'depopulation', 'depreciation', 'depreciations', 'deregulation', 'desalination', 'desegregation', 'determination', \"determination's\", 'determinations', 'deterministic', 'detoxication', 'devaluation', 'developmental', 'developmental', 'diguglielmo', 'dilophosaurus', 'discoloration', 'discolorations', 'discrimination', 'disembarkation', 'disinformation', 'disintegration', 'disintegration', 'dissemination', 'dissociation', 'domeniconi', 'domestication', 'dominicana', 'dominicana', 'ecclesiastic', 'econometric', 'econometrics', 'economico', 'edizione', 'ejaculation', 'elaboration', 'electioneering', 'electrocution', 'electrocutions', 'electrolytic', 'electromagnet', 'electromagnets', 'electromedics', 'electrostatic', 'elimination', 'eliminations', 'emancipation', 'emancipations', 'embarcadero', 'encephalitis', 'encyclopedic', 'encyclopedic', 'encyclopedist', 'encyclopedist', 'enthusiastic', 'enumeration', 'environmental', 'environmental', 'episcopalian', 'episcopalians', 'eradication', 'erythropoietin', 'evacuation', 'evacuations', 'evaluation', 'evaluation', 'evaluations', 'evaluations', 'evaporation', 'evaporation', 'exacerbation', 'exacerbations', 'exaggeration', 'exaggerations', 'examination', 'examinations', 'exfoliation', 'exhilaration', 'expatriation', 'experiential', 'experimental', 'experimental', 'expressionistic', 'extermination', 'extrapolation', 'extravaganza', 'extravaganzas', 'facilitation', 'famiglietti', 'fedeccredito', 'financiera', 'financiero', 'garagiola', 'giovanniello', 'hallucination', 'hallucinations', 'hermaphroditic', 'humiliation', 'iacobelli', 'iacobellis', 'iacovelli', 'iannaccone', 'iannacone', 'iannamico', 'ianniello', 'iavarone', 'idealistic', 'illumination', 'imagination', 'imaginations', 'imagineering', 'impressionistic', 'inactivation', 'inauguration', 'inaugurations', 'incarceration', 'inconsequential', 'incorporation', \"incorporation's\", 'incorporations', 'incrimination', 'indemnifying', 'indoctrination', 'industriali', 'infatuation', 'inhabitation', 'initiation', 'innoculation', 'inoculation', 'inoculations', 'insemination', 'insinuation', 'insinuations', 'instantiation', 'interpretation', 'interpretations', 'interrogation', 'interrogations', 'intimidation', 'intoxication', 'invalidation', 'investigation', 'investigations', 'investimento', 'ionospheric', 'irimajiri', 'irradiation', 'italiana', 'kartasasmita', 'kilimanjaro', 'kolodziejski', 'korzeniewski', 'kumaratunga', 'kumarisami', 'lagomarsino', 'louisiana', \"louisiana's\", 'manipulation', 'manipulations', 'maquiladoras', 'marielito', 'marielitos', 'mazowiecki', 'mcalexander', 'mediobanca', 'mericantante', 'mezhdumarodnom', 'misallocation', 'misapplication', 'misapprehension', 'misdiagnoses', 'misdiagnoses', 'misdiagnosis', 'misrecognition', 'misrepresenting', 'misrepresenting', 'modigliani', 'modigliani', 'modiliani', 'monongahela', 'monopolistic', 'monticciolo', 'napoleonic', 'navratilova', \"navratilova's\", 'negotiation', 'negotiations', 'negotiations', 'nomenklatura', 'nonacademic', 'noncontroversial', 'nongovernmental', 'obliteration', 'okoniewski', 'origination', 'originations', 'participation', 'participations', 'paternalistic', 'perpetuation', 'pontification', 'pontifications', 'popieluszko', 'precipitation', 'premeditation', 'preoccupation', 'preoccupations', 'prevarication', 'procrastination', 'prognostication', 'prognostications', 'pronunciation', 'pronunciation', 'pronunciations', 'pronunciations', 'prudentialbache', 'psychosomatic', 'reallocation', 'recalculation', 'recrimination', 'recriminations', 'recuperation', 'rededication', 'redefinition', 'redeposition', 'reengineering', 'refrigeration', 'reiteration', 'rejuvenation', 'religione', 'remediation', 'remuneration', 'renunciation', 'repatriation', 'repudiation', 'resuscitation', 'retaliation', 'reverberation', 'reverberations', 'ricigliano', 'rovaniemi', 'sebastiana', 'sebastiani', 'sebastianis', 'solicitation', 'solicitations', 'sophistication', 'subordination', 'substantiation', 'substantiation', 'sundararajan', 'surrealistic', 'tabacalera', 'ticonderoga', \"ticonderoga's\", 'triangulation', 'tuberculosis', 'tuberculosis', 'tuberculosis', 'uenohara', 'undiplomatic', 'uneconomic', 'unpatriotic', 'unrepresented', 'unscientific', 'unsentimental', 'unsympathetic', 'wakabayashi', 'yekaterinburg']\n"
     ]
    }
   ],
   "source": [
    "def stress(pron):\n",
    "    return [char for phone in pron for char in phone if char.isdigit()]\n",
    "\n",
    "pattern1 = [w for w, pron in entries if stress(pron) == ['0', '1', '0', '2', '0']]\n",
    "print(pattern1)\n",
    "print()\n",
    "pattern2 = [w for w, pron in entries if stress(pron) == ['0', '2', '0', '1', '0']]\n",
    "print(pattern2)"
   ]
  },
  {
   "cell_type": "markdown",
   "metadata": {},
   "source": [
    "ตัวอย่างการใช้ conditional frequency distribution ในการหา set ของคำที่ออกเสียงขึ้นต้นด้วย phoneme P และมีทั้งหมด 3 phonemes โดยทำการจัดกลุ่มตามลำดับของเสียงแรกและเสียงสุดท้าย และพิมพ์เฉพาะกรณีที่มีจำนวนคำที่ตรงกับ template มากกว่า 10 คำขึ้นไป"
   ]
  },
  {
   "cell_type": "code",
   "execution_count": 28,
   "metadata": {},
   "outputs": [
    {
     "name": "stdout",
     "output_type": "stream",
     "text": [
      "P-CH patch pautsch peach perch petsch petsche piche piech pietsch pitch pit...\n",
      "P-K pac pack paek paik pak pake paque peak peake pech peck peek perc perk ...\n",
      "P-L pahl pail paille pal pale pall paul paule paull peal peale pearl pearl...\n",
      "P-N paign pain paine pan pane pawn payne peine pen penh penn pin pine pinn...\n",
      "P-P paap paape pap pape papp paup peep pep pip pipe pipp poop pop pope pop...\n",
      "P-R paar pair par pare parr pear peer pier poor poore por pore porr pour...\n",
      "P-S pace pass pasts peace pearse pease perce pers perse pesce piece piss p...\n",
      "P-T pait pat pate patt peart peat peet peete pert pet pete pett piet piett...\n",
      "P-UW1 peru peugh pew plew plue prew pru prue prugh pshew pugh...\n",
      "P-Z p's p.'s p.s pais paiz pao's pas pause paws pays paz peas pease pei's ...\n"
     ]
    }
   ],
   "source": [
    "p3 = [(pron[0]+'-'+pron[2], word) \\\n",
    "      for (word, pron) in entries \\\n",
    "      if pron[0] == 'P' and len(pron) == 3]\n",
    "#print(p3)\n",
    "\n",
    "cfd = nltk.ConditionalFreqDist(p3)\n",
    "#print(cfd.conditions())\n",
    "for template in sorted(cfd.conditions()):\n",
    "    if len(cfd[template]) > 10:\n",
    "        words = sorted(cfd[template])\n",
    "        #print(template, words, cfd[template])\n",
    "        wordstring = ' '.join(words)\n",
    "        print(template, wordstring[:70] + \"...\")"
   ]
  },
  {
   "cell_type": "markdown",
   "metadata": {},
   "source": [
    "CMUDict เก็บอยู่ในโครงสร้างแบบ dictionary ดังนั้นเราจึงสามารถเข้าถึงการออกเสียงของคำศัพท์ใดๆ ได้โดยใช้คำศัพท์เป็น key ในการเข้าถึง ดังตัวอย่างบรรทัดที่ 2 เป็นการพิมพ์ phonemes ของคำว่า fire ซึ่งพบว่าอ่านออกเสียงได้ 2 แบบ\n",
    "ส่วนบรรทัดที่ 3 เป็นการพิมพ์ phonems ของคำว่า blog แต่เนื่องจากคำนี้ไม่มีอยู่ใน CMUDict จึงเกิด KeyError"
   ]
  },
  {
   "cell_type": "code",
   "execution_count": 29,
   "metadata": {},
   "outputs": [
    {
     "name": "stdout",
     "output_type": "stream",
     "text": [
      "[['F', 'AY1', 'ER0'], ['F', 'AY1', 'R']]\n"
     ]
    },
    {
     "ename": "KeyError",
     "evalue": "'blog'",
     "traceback": [
      "\u001b[1;31m---------------------------------------------------------------------------\u001b[0m",
      "\u001b[1;31mKeyError\u001b[0m                                  Traceback (most recent call last)",
      "\u001b[1;32m<ipython-input-29-d3353c1b722a>\u001b[0m in \u001b[0;36m<module>\u001b[1;34m()\u001b[0m\n\u001b[0;32m      1\u001b[0m \u001b[0mprondict\u001b[0m \u001b[1;33m=\u001b[0m \u001b[0mcmudict\u001b[0m\u001b[1;33m.\u001b[0m\u001b[0mdict\u001b[0m\u001b[1;33m(\u001b[0m\u001b[1;33m)\u001b[0m\u001b[1;33m\u001b[0m\u001b[0m\n\u001b[0;32m      2\u001b[0m \u001b[0mprint\u001b[0m\u001b[1;33m(\u001b[0m\u001b[0mprondict\u001b[0m\u001b[1;33m[\u001b[0m\u001b[1;34m'fire'\u001b[0m\u001b[1;33m]\u001b[0m\u001b[1;33m)\u001b[0m\u001b[1;33m\u001b[0m\u001b[0m\n\u001b[1;32m----> 3\u001b[1;33m \u001b[0mprint\u001b[0m\u001b[1;33m(\u001b[0m\u001b[0mprondict\u001b[0m\u001b[1;33m[\u001b[0m\u001b[1;34m'blog'\u001b[0m\u001b[1;33m]\u001b[0m\u001b[1;33m)\u001b[0m\u001b[1;33m\u001b[0m\u001b[0m\n\u001b[0m\u001b[0;32m      4\u001b[0m \u001b[1;33m\u001b[0m\u001b[0m\n\u001b[0;32m      5\u001b[0m \u001b[0mprondict\u001b[0m\u001b[1;33m[\u001b[0m\u001b[1;34m'blog'\u001b[0m\u001b[1;33m]\u001b[0m \u001b[1;33m=\u001b[0m \u001b[1;33m[\u001b[0m\u001b[1;33m[\u001b[0m\u001b[1;34m'B'\u001b[0m\u001b[1;33m,\u001b[0m \u001b[1;34m'L'\u001b[0m\u001b[1;33m,\u001b[0m \u001b[1;34m'AA1'\u001b[0m\u001b[1;33m,\u001b[0m \u001b[1;34m'G'\u001b[0m\u001b[1;33m]\u001b[0m\u001b[1;33m]\u001b[0m\u001b[1;33m\u001b[0m\u001b[0m\n",
      "\u001b[1;31mKeyError\u001b[0m: 'blog'"
     ],
     "output_type": "error"
    }
   ],
   "source": [
    "prondict = cmudict.dict()\n",
    "print(prondict['fire']) \n",
    "print(prondict['blog'])"
   ]
  },
  {
   "cell_type": "markdown",
   "metadata": {},
   "source": [
    "เราสามารถปรับปรุงตัวแปร prondict ให้เพิ่มคำว่า blog และ phoneme สำหรับการออกเสียงได้ ดังตัวอย่าง เมื่อทำการค้นหาโดยใช้ key ว่า blog ก็จะแสดงผลดัง phoneme ที่เราเพิ่มไปในบรรทัดที่ 1\n",
    "\n",
    "หมายเหตุ: การเพิ่ม entry ของคำว่า blog ในกรณีนี้จะไม่มีผลต่อ CMUDict ใน NLTK corpus "
   ]
  },
  {
   "cell_type": "code",
   "execution_count": 31,
   "metadata": {},
   "outputs": [
    {
     "data": {
      "text/plain": [
       "[['B', 'L', 'AA1', 'G']]"
      ]
     },
     "execution_count": 31,
     "metadata": {},
     "output_type": "execute_result"
    }
   ],
   "source": [
    "prondict['blog'] = [['B', 'L', 'AA1', 'G']]\n",
    "prondict['blog']"
   ]
  },
  {
   "cell_type": "markdown",
   "metadata": {},
   "source": [
    "เราสามารถใช้คลังคำในการประมวลผลข้อความได้หลากหลาย เช่น การค้นคำที่มีลักษณะเฉพาะ เช่น ค้นหาคำนามในข้อความ ค้นหาคำที่มีการอ่านออกเสียงตามรูปแบบที่ระบุ \n",
    "\n",
    "ตัวอย่างต่อไปนี้เป็นการเปลี่ยนคำให้เป็นการออกเสียง โดยใช้ CMUDict เพื่อใช้สำหรับงานสังเคราะห์เสียง "
   ]
  },
  {
   "cell_type": "code",
   "execution_count": 32,
   "metadata": {},
   "outputs": [
    {
     "name": "stdout",
     "output_type": "stream",
     "text": [
      "['N', 'AE1', 'CH', 'ER0', 'AH0', 'L', 'L', 'AE1', 'NG', 'G', 'W', 'AH0', 'JH', 'P', 'R', 'AA1', 'S', 'EH0', 'S', 'IH0', 'NG']\n"
     ]
    }
   ],
   "source": [
    "text = ['natural', 'language', 'processing']\n",
    "print([ph for w in text for ph in prondict[w][0]])"
   ]
  }
 ],
 "metadata": {
  "kernelspec": {
   "display_name": "Python 3",
   "language": "python",
   "name": "python3"
  },
  "language_info": {
   "codemirror_mode": {
    "name": "ipython",
    "version": 3
   },
   "file_extension": ".py",
   "mimetype": "text/x-python",
   "name": "python",
   "nbconvert_exporter": "python",
   "pygments_lexer": "ipython3",
   "version": "3.6.1"
  }
 },
 "nbformat": 4,
 "nbformat_minor": 2
}
