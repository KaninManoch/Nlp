{
 "cells": [
  {
   "cell_type": "markdown",
   "metadata": {
    "collapsed": true
   },
   "source": [
    "# WordNet\n",
    "\n",
    "#### wordnet เป็นฐานข้อมูลคำศัพท์ภาษาอังกฤษ ที่มีลักษณะคล้ายกับพจนานุกรมคำเหมือน (thesaurus)\n",
    "โดยจะมีการจัดเก็บคำศัพท์ หน้าที่ของคำ ความหมาย และตัวอย่างประโยคที่ใช้คำศัพท์นั้น นอกจากนี้ยังมีการจัดเก็บเซ็ต (set) ของกลุ่มคำที่มีความหมายเหมือนกัน (synonyms) รวมไว้ด้วยกันเรียกว่า synset\n"
   ]
  },
  {
   "cell_type": "code",
   "execution_count": 4,
   "metadata": {},
   "outputs": [
    {
     "data": {
      "text/plain": [
       "[Synset('car.n.01')]"
      ]
     },
     "execution_count": 4,
     "metadata": {},
     "output_type": "execute_result"
    }
   ],
   "source": [
    "from nltk.corpus import wordnet as wn\n",
    "wn.synsets('motorcar')\n"
   ]
  },
  {
   "cell_type": "code",
   "execution_count": 4,
   "metadata": {},
   "outputs": [
    {
     "data": {
      "text/plain": [
       "['car', 'auto', 'automobile', 'machine', 'motorcar']"
      ]
     },
     "execution_count": 4,
     "metadata": {},
     "output_type": "execute_result"
    }
   ],
   "source": [
    "wn.synset('car.n.01').lemma_names()\n"
   ]
  },
  {
   "cell_type": "code",
   "execution_count": 20,
   "metadata": {},
   "outputs": [
    {
     "name": "stdout",
     "output_type": "stream",
     "text": [
      "the upper branches and leaves of a tree or other plant\n",
      "['he needs a car to get to work']\n"
     ]
    }
   ],
   "source": [
    "print(wn.synset('car.n.01').definition())\n",
    "print(wn.synset('car.n.01').examples())"
   ]
  },
  {
   "cell_type": "code",
   "execution_count": 6,
   "metadata": {},
   "outputs": [
    {
     "name": "stdout",
     "output_type": "stream",
     "text": [
      "[Lemma('car.n.01.car'), Lemma('car.n.01.auto'), Lemma('car.n.01.automobile'), Lemma('car.n.01.machine'), Lemma('car.n.01.motorcar')]\n",
      "Lemma('car.n.01.automobile')\n",
      "Synset('car.n.01')\n",
      "automobile\n",
      "[Lemma('car.n.01.car'), Lemma('car.n.02.car'), Lemma('car.n.03.car'), Lemma('car.n.04.car'), Lemma('cable_car.n.01.car')]\n"
     ]
    }
   ],
   "source": [
    "print(wn.synset('car.n.01').lemmas())\n",
    "print(wn.lemma('car.n.01.automobile'))\n",
    "print(wn.lemma('car.n.01.automobile').synset() )\n",
    "print(wn.lemma('car.n.01.automobile').name())\n",
    "print(wn.lemmas('car'))"
   ]
  },
  {
   "attachments": {},
   "cell_type": "markdown",
   "metadata": {},
   "source": [
    "### The WordNet Hierarcy\n",
    "\n",
    "- Synset ใน WordNet จะมีความสัมพันธ์แบบเชื่อมโยงกันเป็นลำดับชั้น (hierarchy) \n",
    "- synset ที่อยู่ลำดับชั้นบนสุดคือ root synset หรือเรียกว่า unique beginner จะเป็นชื่อ concepts ที่ค่อนข้างเป็นนามธรรม เช่น Entity, State, Event \n",
    "- ส่วน synset อื่นๆ ที่อยู่ในลำดับชั้นถัดลงไปจะเป็นกลุ่มคำที่มีความหมายเฉพาะเจาะจงขึ้นเรื่อยๆ ตามลำดับชั้น \n",
    "- ดังนั้น synset ที่อยู่ติดกันจะเชื่อมโยมกันโดยมีความสัมพันธ์กันแบบ concept โดยทั่วไป เรียกว่า hypernym และ concept ที่เฉพาะเจาะจงมากขึ้น เรียกว่า hyponym\n",
    "\n",
    "อธิบายตัวอย่างคำสั่ง \n",
    "- ตัวแปร motorcar เก็บ synset ของ car ที่เป็นนามมีความหมายแบบที่ 1 \n",
    "- ตัวแปร types_of_motorcar เป็นการหา synset ที่เป็น hyponym (โหนดที่อยู่ชั้นถัดลงไป) ของ synset('car.n.01') จะพบว่ามี synset หรือ concept ที่เฉพาะเจาะจงลงไปอีก 31 synset \n",
    "- จากนั้นวนลูปเพื่อสั่งพิมพ์ synset ทุกตัวที่เป็น hyponym ของ car และสั่งพิมพ์ lemma (คำศัพท์) ทุกตัวที่อยู่ใน synset นั้นๆ \n",
    "- ตัวอย่างความรู้ที่ได้จากโค้ดนี้ เช่น concept ของคำว่า cab ที่เป็นนามตามความหมายที่ 3 มีคำที่เป็น synonym กันอยู่ 4 คำได้แก่ 'cab', 'hack', 'taxi', 'taxicab'\n",
    " "
   ]
  },
  {
   "cell_type": "code",
   "execution_count": 12,
   "metadata": {},
   "outputs": [
    {
     "name": "stdout",
     "output_type": "stream",
     "text": [
      "Synset('car.n.01')\n",
      "31 [Synset('ambulance.n.01'), Synset('beach_wagon.n.01'), Synset('bus.n.04'), Synset('cab.n.03'), Synset('compact.n.03'), Synset('convertible.n.01'), Synset('coupe.n.01'), Synset('cruiser.n.01'), Synset('electric.n.01'), Synset('gas_guzzler.n.01'), Synset('hardtop.n.01'), Synset('hatchback.n.01'), Synset('horseless_carriage.n.01'), Synset('hot_rod.n.01'), Synset('jeep.n.01'), Synset('limousine.n.01'), Synset('loaner.n.02'), Synset('minicar.n.01'), Synset('minivan.n.01'), Synset('model_t.n.01'), Synset('pace_car.n.01'), Synset('racer.n.02'), Synset('roadster.n.01'), Synset('sedan.n.01'), Synset('sport_utility.n.01'), Synset('sports_car.n.01'), Synset('stanley_steamer.n.01'), Synset('stock_car.n.01'), Synset('subcompact.n.01'), Synset('touring_car.n.01'), Synset('used-car.n.01')]\n",
      "Synset('ambulance.n.01') ['ambulance']\n",
      "Synset('beach_wagon.n.01') ['beach_wagon', 'station_wagon', 'wagon', 'estate_car', 'beach_waggon', 'station_waggon', 'waggon']\n",
      "Synset('bus.n.04') ['bus', 'jalopy', 'heap']\n",
      "Synset('cab.n.03') ['cab', 'hack', 'taxi', 'taxicab']\n",
      "Synset('compact.n.03') ['compact', 'compact_car']\n",
      "Synset('convertible.n.01') ['convertible']\n",
      "Synset('coupe.n.01') ['coupe']\n",
      "Synset('cruiser.n.01') ['cruiser', 'police_cruiser', 'patrol_car', 'police_car', 'prowl_car', 'squad_car']\n",
      "Synset('electric.n.01') ['electric', 'electric_automobile', 'electric_car']\n",
      "Synset('gas_guzzler.n.01') ['gas_guzzler']\n",
      "Synset('hardtop.n.01') ['hardtop']\n",
      "Synset('hatchback.n.01') ['hatchback']\n",
      "Synset('horseless_carriage.n.01') ['horseless_carriage']\n",
      "Synset('hot_rod.n.01') ['hot_rod', 'hot-rod']\n",
      "Synset('jeep.n.01') ['jeep', 'landrover']\n",
      "Synset('limousine.n.01') ['limousine', 'limo']\n",
      "Synset('loaner.n.02') ['loaner']\n",
      "Synset('minicar.n.01') ['minicar']\n",
      "Synset('minivan.n.01') ['minivan']\n",
      "Synset('model_t.n.01') ['Model_T']\n",
      "Synset('pace_car.n.01') ['pace_car']\n",
      "Synset('racer.n.02') ['racer', 'race_car', 'racing_car']\n",
      "Synset('roadster.n.01') ['roadster', 'runabout', 'two-seater']\n",
      "Synset('sedan.n.01') ['sedan', 'saloon']\n",
      "Synset('sport_utility.n.01') ['sport_utility', 'sport_utility_vehicle', 'S.U.V.', 'SUV']\n",
      "Synset('sports_car.n.01') ['sports_car', 'sport_car']\n",
      "Synset('stanley_steamer.n.01') ['Stanley_Steamer']\n",
      "Synset('stock_car.n.01') ['stock_car']\n",
      "Synset('subcompact.n.01') ['subcompact', 'subcompact_car']\n",
      "Synset('touring_car.n.01') ['touring_car', 'phaeton', 'tourer']\n",
      "Synset('used-car.n.01') ['used-car', 'secondhand_car']\n"
     ]
    }
   ],
   "source": [
    "motorcar = wn.synset('car.n.01')\n",
    "print(motorcar)\n",
    "types_of_motorcar = motorcar.hyponyms()\n",
    "print(len(types_of_motorcar),types_of_motorcar)\n",
    "for synset in types_of_motorcar:\n",
    "    print(synset, end= ' ')\n",
    "    print(synset.lemma_names())\n",
    "    \n",
    "#lem = [lemma.name() for synset in types_of_motorcar for lemma in synset.lemmas()]\n",
    "#print(len(lem),lem)"
   ]
  },
  {
   "cell_type": "code",
   "execution_count": 8,
   "metadata": {},
   "outputs": [
    {
     "name": "stdout",
     "output_type": "stream",
     "text": [
      "[Synset('motor_vehicle.n.01')]\n",
      "2\n",
      "['entity.n.01', 'physical_entity.n.01', 'object.n.01', 'whole.n.02', 'artifact.n.01', 'instrumentality.n.03', 'container.n.01', 'wheeled_vehicle.n.01', 'self-propelled_vehicle.n.01', 'motor_vehicle.n.01', 'car.n.01']\n",
      "['entity.n.01', 'physical_entity.n.01', 'object.n.01', 'whole.n.02', 'artifact.n.01', 'instrumentality.n.03', 'conveyance.n.03', 'vehicle.n.01', 'wheeled_vehicle.n.01', 'self-propelled_vehicle.n.01', 'motor_vehicle.n.01', 'car.n.01']\n",
      "[Synset('entity.n.01')]\n"
     ]
    }
   ],
   "source": [
    "print(motorcar.hypernyms())\n",
    "paths = motorcar.hypernym_paths()\n",
    "print(len(paths))\n",
    "\n",
    "print([synset.name() for synset in paths[0]])\n",
    "print([synset.name() for synset in paths[1]])\n",
    "print(motorcar.root_hypernyms())"
   ]
  },
  {
   "cell_type": "markdown",
   "metadata": {},
   "source": [
    "### Lexical Relations\n",
    "\n",
    "นอกจากนี้ยังมีฟังก์ชันที่ใช้หาความสัมพันธ์ของคำศัพท์ ในแง่ส่วนประกอบของคำที่สนใจได้ ได้แก่\n",
    "\n",
    "#### meronyms หมายถึง ส่วนประกอบของคำที่สนใจ\n",
    "\n",
    "- part_meronyms คือส่วนประกอบในแง่ที่บอกว่าประกอบด้วยชิ้นส่วนใดบ้าง เช่น trunk (ลำต้น), crown (ยอดไม้), limb (กิ่ง) เป็นส่วนประกอบของ tree (ต้นไม้) \n",
    "\n",
    "- substance_meronyms คือส่วนประกอบในแง่ที่บอกว่าประกอบขึ้นจากอะไร เช่น tree (ต้นไม้) มี heartwood (แก่นไม้) และ sapwood (กระพี้) เป็นส่วนประกอบของต้นไม้\n",
    "\n",
    "- member_holoynyms คือ สิ่งที่สนใจประกอบกันเป็นอะไร เช่น tree (ต้นไม้) หลายต้นๆ รวมกันกลายเป็น forest (ป่า)\n"
   ]
  },
  {
   "cell_type": "code",
   "execution_count": 1,
   "metadata": {},
   "outputs": [
    {
     "ename": "NameError",
     "evalue": "name 'wn' is not defined",
     "output_type": "error",
     "traceback": [
      "\u001b[1;31m---------------------------------------------------------------------------\u001b[0m",
      "\u001b[1;31mNameError\u001b[0m                                 Traceback (most recent call last)",
      "\u001b[1;32m<ipython-input-1-812f2e35e6f7>\u001b[0m in \u001b[0;36m<module>\u001b[1;34m()\u001b[0m\n\u001b[1;32m----> 1\u001b[1;33m \u001b[0mprint\u001b[0m\u001b[1;33m(\u001b[0m\u001b[0mwn\u001b[0m\u001b[1;33m.\u001b[0m\u001b[0msynset\u001b[0m\u001b[1;33m(\u001b[0m\u001b[1;34m'tree.n.01'\u001b[0m\u001b[1;33m)\u001b[0m\u001b[1;33m.\u001b[0m\u001b[0mpart_meronyms\u001b[0m\u001b[1;33m(\u001b[0m\u001b[1;33m)\u001b[0m\u001b[1;33m)\u001b[0m\u001b[1;33m\u001b[0m\u001b[0m\n\u001b[0m\u001b[0;32m      2\u001b[0m \u001b[0mprint\u001b[0m\u001b[1;33m(\u001b[0m\u001b[0mwn\u001b[0m\u001b[1;33m.\u001b[0m\u001b[0msynset\u001b[0m\u001b[1;33m(\u001b[0m\u001b[1;34m'tree.n.01'\u001b[0m\u001b[1;33m)\u001b[0m\u001b[1;33m.\u001b[0m\u001b[0msubstance_meronyms\u001b[0m\u001b[1;33m(\u001b[0m\u001b[1;33m)\u001b[0m\u001b[1;33m)\u001b[0m\u001b[1;33m\u001b[0m\u001b[0m\n\u001b[0;32m      3\u001b[0m \u001b[0mprint\u001b[0m\u001b[1;33m(\u001b[0m\u001b[0mwn\u001b[0m\u001b[1;33m.\u001b[0m\u001b[0msynset\u001b[0m\u001b[1;33m(\u001b[0m\u001b[1;34m'tree.n.01'\u001b[0m\u001b[1;33m)\u001b[0m\u001b[1;33m.\u001b[0m\u001b[0mmember_holonyms\u001b[0m\u001b[1;33m(\u001b[0m\u001b[1;33m)\u001b[0m\u001b[1;33m)\u001b[0m\u001b[1;33m\u001b[0m\u001b[0m\n",
      "\u001b[1;31mNameError\u001b[0m: name 'wn' is not defined"
     ]
    }
   ],
   "source": [
    "print(wn.synset('tree.n.01').part_meronyms())\n",
    "print(wn.synset('tree.n.01').substance_meronyms())\n",
    "print(wn.synset('tree.n.01').member_holonyms())"
   ]
  },
  {
   "cell_type": "code",
   "execution_count": 10,
   "metadata": {},
   "outputs": [
    {
     "name": "stdout",
     "output_type": "stream",
     "text": [
      "batch.n.02: (often followed by `of') a large number or amount or extent\n",
      "mint.n.02: any north temperate plant of the genus Mentha with aromatic leaves and small mauve flowers\n",
      "mint.n.03: any member of the mint family of plants\n",
      "mint.n.04: the leaves of a mint plant used fresh or candied\n",
      "mint.n.05: a candy that is flavored with a mint oil\n",
      "mint.n.06: a plant where money is coined by authority of the government\n"
     ]
    }
   ],
   "source": [
    "for synset in wn.synsets('mint', wn.NOUN):\n",
    "    print(synset.name() + ':', synset.definition())"
   ]
  },
  {
   "cell_type": "code",
   "execution_count": 11,
   "metadata": {},
   "outputs": [
    {
     "name": "stdout",
     "output_type": "stream",
     "text": [
      "[Synset('step.v.01')]\n",
      "[Synset('chew.v.01'), Synset('swallow.v.01')]\n",
      "[Synset('arouse.v.07'), Synset('disappoint.v.01')]\n"
     ]
    }
   ],
   "source": [
    "print(wn.synset('walk.v.01').entailments())\n",
    "print(wn.synset('eat.v.01').entailments())\n",
    "print(wn.synset('tease.v.03').entailments())"
   ]
  },
  {
   "cell_type": "code",
   "execution_count": 12,
   "metadata": {},
   "outputs": [
    {
     "name": "stdout",
     "output_type": "stream",
     "text": [
      "[Lemma('demand.n.02.demand')]\n",
      "[Lemma('linger.v.04.linger')]\n",
      "[Lemma('inclined.a.02.inclined'), Lemma('vertical.a.01.vertical')]\n",
      "[Lemma('legato.r.01.legato')]\n"
     ]
    }
   ],
   "source": [
    "print(wn.lemma('supply.n.02.supply').antonyms())\n",
    "print(wn.lemma('rush.v.01.rush').antonyms())\n",
    "print(wn.lemma('horizontal.a.01.horizontal').antonyms())\n",
    "print(wn.lemma('staccato.r.01.staccato').antonyms())"
   ]
  }
 ],
 "metadata": {
  "kernelspec": {
   "display_name": "Python 3",
   "language": "python",
   "name": "python3"
  },
  "language_info": {
   "codemirror_mode": {
    "name": "ipython",
    "version": 3
   },
   "file_extension": ".py",
   "mimetype": "text/x-python",
   "name": "python",
   "nbconvert_exporter": "python",
   "pygments_lexer": "ipython3",
   "version": "3.6.1"
  }
 },
 "nbformat": 4,
 "nbformat_minor": 2
}
