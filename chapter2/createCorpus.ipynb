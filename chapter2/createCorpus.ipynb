{
 "cells": [
  {
   "cell_type": "code",
   "execution_count": 20,
   "metadata": {},
   "outputs": [
    {
     "data": {
      "text/plain": [
       "['CorpusStructure.ipynb', 'cfd.ipynb', 'createCorpus.ipynb', 'lexicon.ipynb']"
      ]
     },
     "execution_count": 20,
     "metadata": {},
     "output_type": "execute_result"
    }
   ],
   "source": [
    "from nltk.corpus import PlaintextCorpusReader\n",
    "corpus_root = 'C:\\\\Users\\\\ASUS\\\\nlp'\n",
    "wordlists = PlaintextCorpusReader(corpus_root, '[a-zA-z]*.ipynb')\n",
    "wordlists.fileids()"
   ]
  },
  {
   "cell_type": "code",
   "execution_count": 26,
   "metadata": {},
   "outputs": [
    {
     "name": "stdout",
     "output_type": "stream",
     "text": [
      "CorpusStructure.ipynb\n",
      "cfd.ipynb\n",
      "createCorpus.ipynb\n",
      "lexicon.ipynb\n"
     ]
    }
   ],
   "source": [
    "for file in wordlists.fileids():\n",
    "    print(file)"
   ]
  }
 ],
 "metadata": {
  "kernelspec": {
   "display_name": "Python 3",
   "language": "python",
   "name": "python3"
  },
  "language_info": {
   "codemirror_mode": {
    "name": "ipython",
    "version": 3
   },
   "file_extension": ".py",
   "mimetype": "text/x-python",
   "name": "python",
   "nbconvert_exporter": "python",
   "pygments_lexer": "ipython3",
   "version": "3.6.1"
  }
 },
 "nbformat": 4,
 "nbformat_minor": 0
}
