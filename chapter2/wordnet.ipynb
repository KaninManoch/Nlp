{
 "cells": [
  {
   "cell_type": "markdown",
   "metadata": {
    "collapsed": true
   },
   "source": [
    "# WordNet\n",
    "\n",
    "#### wordnet เป็นฐานข้อมูลคำศัพท์ภาษาอังกฤษ ที่มีลักษณะคล้ายกับพจนานุกรมคำเหมือน (thesaurus)\n",
    "โดยจะมีการจัดเก็บคำศัพท์ หน้าที่ของคำ ความหมาย และตัวอย่างประโยคที่ใช้คำศัพท์นั้น นอกจากนี้ยังมีการจัดเก็บเซ็ต (set) ของกลุ่มคำที่มีความหมายเหมือนกัน (synonyms) รวมไว้ด้วยกันเรียกว่า synset\n"
   ]
  },
  {
   "cell_type": "code",
   "execution_count": 2,
   "metadata": {},
   "outputs": [
    {
     "data": {
      "text/plain": [
       "[Synset('car.n.01')]"
      ]
     },
     "execution_count": 2,
     "metadata": {},
     "output_type": "execute_result"
    }
   ],
   "source": [
    "from nltk.corpus import wordnet as wn\n",
    "wn.synsets('motorcar')"
   ]
  },
  {
   "cell_type": "code",
   "execution_count": 3,
   "metadata": {},
   "outputs": [
    {
     "name": "stdout",
     "output_type": "stream",
     "text": [
      "a motor vehicle with four wheels; usually propelled by an internal combustion engine\n",
      "['he needs a car to get to work']\n"
     ]
    }
   ],
   "source": [
    "print(wn.synset('car.n.01').definition())\n",
    "print(wn.synset('car.n.01').examples())"
   ]
  },
  {
   "cell_type": "code",
   "execution_count": 4,
   "metadata": {},
   "outputs": [
    {
     "name": "stdout",
     "output_type": "stream",
     "text": [
      "[Lemma('car.n.01.car'), Lemma('car.n.01.auto'), Lemma('car.n.01.automobile'), Lemma('car.n.01.machine'), Lemma('car.n.01.motorcar')]\n"
     ]
    },
    {
     "data": {
      "text/plain": [
       "['car', 'auto', 'automobile', 'machine', 'motorcar']"
      ]
     },
     "execution_count": 4,
     "metadata": {},
     "output_type": "execute_result"
    }
   ],
   "source": [
    "print(wn.synset('car.n.01').lemmas())\n",
    "wn.synset('car.n.01').lemma_names()"
   ]
  },
  {
   "cell_type": "code",
   "execution_count": 5,
   "metadata": {},
   "outputs": [
    {
     "name": "stdout",
     "output_type": "stream",
     "text": [
      "Lemma('car.n.01.automobile')\n",
      "Synset('car.n.01')\n",
      "automobile\n",
      "[Lemma('car.n.01.car'), Lemma('car.n.02.car'), Lemma('car.n.03.car'), Lemma('car.n.04.car'), Lemma('cable_car.n.01.car')]\n"
     ]
    }
   ],
   "source": [
    "print(wn.lemma('car.n.01.automobile'))\n",
    "print(wn.lemma('car.n.01.automobile').synset() )\n",
    "print(wn.lemma('car.n.01.automobile').name())\n",
    "print(wn.lemmas('car'))"
   ]
  },
  {
   "cell_type": "markdown",
   "metadata": {},
   "source": [
    "### The WordNet Hierarcy\n",
    "\n",
    "- Synset ใน WordNet จะมีความสัมพันธ์แบบเชื่อมโยงกันเป็นลำดับชั้น (hierarchy) \n",
    "- synset ที่อยู่ลำดับชั้นบนสุดคือ root synset หรือเรียกว่า unique beginner จะเป็นชื่อ concepts ที่ค่อนข้างเป็นนามธรรม เช่น Entity, State, Event \n",
    "- ส่วน synset อื่นๆ ที่อยู่ในลำดับชั้นถัดลงไปจะเป็นกลุ่มคำที่มีความหมายเฉพาะเจาะจงขึ้นเรื่อยๆ ตามลำดับชั้น \n",
    "- ดังนั้น synset ที่อยู่ติดกันจะเชื่อมโยมกันโดยมีความสัมพันธ์กันแบบ concept โดยทั่วไป เรียกว่า hypernym และ concept ที่เฉพาะเจาะจงมากขึ้น เรียกว่า hyponym\n",
    "\n",
    "อธิบายตัวอย่างคำสั่ง \n",
    "- ตัวแปร motorcar เก็บ synset ของ car ที่เป็นนามมีความหมายแบบที่ 1 \n",
    "- ตัวแปร types_of_motorcar เป็นการหา synset ที่เป็น hyponym (โหนดที่อยู่ชั้นถัดลงไป) ของ synset('car.n.01') จะพบว่ามี synset หรือ concept ที่เฉพาะเจาะจงลงไปอีก 31 synset \n",
    "- จากนั้นวนลูปเพื่อสั่งพิมพ์ synset ทุกตัวที่เป็น hyponym ของ car และสั่งพิมพ์ lemma (คำศัพท์) ทุกตัวที่อยู่ใน synset นั้นๆ \n",
    "- ตัวอย่างความรู้ที่ได้จากโค้ดนี้ เช่น concept ของคำว่า cab ที่เป็นนามตามความหมายที่ 3 มีคำที่เป็น synonym กันอยู่ 4 คำได้แก่ 'cab', 'hack', 'taxi', 'taxicab'\n",
    " "
   ]
  },
  {
   "cell_type": "code",
   "execution_count": 6,
   "metadata": {},
   "outputs": [
    {
     "name": "stdout",
     "output_type": "stream",
     "text": [
      "31 [Synset('ambulance.n.01'), Synset('beach_wagon.n.01'), Synset('bus.n.04'), Synset('cab.n.03'), Synset('compact.n.03'), Synset('convertible.n.01'), Synset('coupe.n.01'), Synset('cruiser.n.01'), Synset('electric.n.01'), Synset('gas_guzzler.n.01'), Synset('hardtop.n.01'), Synset('hatchback.n.01'), Synset('horseless_carriage.n.01'), Synset('hot_rod.n.01'), Synset('jeep.n.01'), Synset('limousine.n.01'), Synset('loaner.n.02'), Synset('minicar.n.01'), Synset('minivan.n.01'), Synset('model_t.n.01'), Synset('pace_car.n.01'), Synset('racer.n.02'), Synset('roadster.n.01'), Synset('sedan.n.01'), Synset('sport_utility.n.01'), Synset('sports_car.n.01'), Synset('stanley_steamer.n.01'), Synset('stock_car.n.01'), Synset('subcompact.n.01'), Synset('touring_car.n.01'), Synset('used-car.n.01')]\n",
      "\n",
      "Synset('ambulance.n.01') ['ambulance']\n",
      "Synset('beach_wagon.n.01') ['beach_wagon', 'station_wagon', 'wagon', 'estate_car', 'beach_waggon', 'station_waggon', 'waggon']\n",
      "Synset('bus.n.04') ['bus', 'jalopy', 'heap']\n",
      "Synset('cab.n.03') ['cab', 'hack', 'taxi', 'taxicab']\n",
      "Synset('compact.n.03') ['compact', 'compact_car']\n",
      "Synset('convertible.n.01') ['convertible']\n",
      "Synset('coupe.n.01') ['coupe']\n",
      "Synset('cruiser.n.01') ['cruiser', 'police_cruiser', 'patrol_car', 'police_car', 'prowl_car', 'squad_car']\n",
      "Synset('electric.n.01') ['electric', 'electric_automobile', 'electric_car']\n",
      "Synset('gas_guzzler.n.01') ['gas_guzzler']\n",
      "Synset('hardtop.n.01') ['hardtop']\n",
      "Synset('hatchback.n.01') ['hatchback']\n",
      "Synset('horseless_carriage.n.01') ['horseless_carriage']\n",
      "Synset('hot_rod.n.01') ['hot_rod', 'hot-rod']\n",
      "Synset('jeep.n.01') ['jeep', 'landrover']\n",
      "Synset('limousine.n.01') ['limousine', 'limo']\n",
      "Synset('loaner.n.02') ['loaner']\n",
      "Synset('minicar.n.01') ['minicar']\n",
      "Synset('minivan.n.01') ['minivan']\n",
      "Synset('model_t.n.01') ['Model_T']\n",
      "Synset('pace_car.n.01') ['pace_car']\n",
      "Synset('racer.n.02') ['racer', 'race_car', 'racing_car']\n",
      "Synset('roadster.n.01') ['roadster', 'runabout', 'two-seater']\n",
      "Synset('sedan.n.01') ['sedan', 'saloon']\n",
      "Synset('sport_utility.n.01') ['sport_utility', 'sport_utility_vehicle', 'S.U.V.', 'SUV']\n",
      "Synset('sports_car.n.01') ['sports_car', 'sport_car']\n",
      "Synset('stanley_steamer.n.01') ['Stanley_Steamer']\n",
      "Synset('stock_car.n.01') ['stock_car']\n",
      "Synset('subcompact.n.01') ['subcompact', 'subcompact_car']\n",
      "Synset('touring_car.n.01') ['touring_car', 'phaeton', 'tourer']\n",
      "Synset('used-car.n.01') ['used-car', 'secondhand_car']\n"
     ]
    }
   ],
   "source": [
    "motorcar = wn.synset('car.n.01')\n",
    "types_of_motorcar = motorcar.hyponyms()\n",
    "print(len(types_of_motorcar),types_of_motorcar)\n",
    "print()\n",
    "for synset in types_of_motorcar:\n",
    "    print(synset, end= ' ')\n",
    "    print(synset.lemma_names())\n",
    "    \n",
    "#lem = [lemma.name() for synset in types_of_motorcar for lemma in synset.lemmas()]\n",
    "#print(len(lem),lem)"
   ]
  },
  {
   "cell_type": "code",
   "execution_count": 7,
   "metadata": {},
   "outputs": [
    {
     "name": "stdout",
     "output_type": "stream",
     "text": [
      "[Synset('motor_vehicle.n.01')]\n",
      "2\n",
      "['entity.n.01', 'physical_entity.n.01', 'object.n.01', 'whole.n.02', 'artifact.n.01', 'instrumentality.n.03', 'container.n.01', 'wheeled_vehicle.n.01', 'self-propelled_vehicle.n.01', 'motor_vehicle.n.01', 'car.n.01']\n",
      "['entity.n.01', 'physical_entity.n.01', 'object.n.01', 'whole.n.02', 'artifact.n.01', 'instrumentality.n.03', 'conveyance.n.03', 'vehicle.n.01', 'wheeled_vehicle.n.01', 'self-propelled_vehicle.n.01', 'motor_vehicle.n.01', 'car.n.01']\n",
      "[Synset('entity.n.01')]\n"
     ]
    }
   ],
   "source": [
    "print(motorcar.hypernyms())\n",
    "paths = motorcar.hypernym_paths()\n",
    "print(len(paths))\n",
    "\n",
    "print([synset.name() for synset in paths[0]])\n",
    "print([synset.name() for synset in paths[1]])\n",
    "print(motorcar.root_hypernyms())"
   ]
  },
  {
   "cell_type": "markdown",
   "metadata": {},
   "source": [
    "### Lexical Relations\n",
    "\n",
    "นอกจากนี้ยังมีฟังก์ชันที่ใช้หาความสัมพันธ์ของคำศัพท์ ในแง่ส่วนประกอบของคำที่สนใจได้ ได้แก่\n",
    "\n",
    "#### ความสัมพันธ์ของคำนาม\n",
    "- meronyms หมายถึง ส่วนประกอบของคำที่สนใจ\n",
    "- part_meronyms คือส่วนประกอบในแง่ที่บอกว่าประกอบด้วยชิ้นส่วนใดบ้าง เช่น trunk (ลำต้น), crown (ยอดไม้), limb (กิ่ง) เป็นส่วนประกอบของ tree (ต้นไม้) \n",
    "\n",
    "- substance_meronyms คือส่วนประกอบในแง่ที่บอกว่าประกอบขึ้นจากอะไร เช่น tree (ต้นไม้) มี heartwood (แก่นไม้) และ sapwood (กระพี้) เป็นส่วนประกอบของต้นไม้\n",
    "\n",
    "- member_holoynyms คือ สิ่งที่สนใจประกอบกันเป็นอะไร เช่น tree (ต้นไม้) หลายต้นๆ รวมกันกลายเป็น forest (ป่า)\n"
   ]
  },
  {
   "cell_type": "code",
   "execution_count": 8,
   "metadata": {},
   "outputs": [
    {
     "name": "stdout",
     "output_type": "stream",
     "text": [
      "[Synset('burl.n.02'), Synset('crown.n.07'), Synset('limb.n.02'), Synset('stump.n.01'), Synset('trunk.n.01')]\n",
      "[Synset('heartwood.n.01'), Synset('sapwood.n.01')]\n",
      "[Synset('forest.n.01')]\n"
     ]
    }
   ],
   "source": [
    "print(wn.synset('tree.n.01').part_meronyms())\n",
    "print(wn.synset('tree.n.01').substance_meronyms())\n",
    "print(wn.synset('tree.n.01').member_holonyms())"
   ]
  },
  {
   "cell_type": "markdown",
   "metadata": {},
   "source": [
    "คำนามหนึ่งคำอาจมีหลายความหมาย ทำให้ความสัมพันธ์ของคำนั้นมีความสลับซับซ้อนได้ เช่น mint ที่เป็นนามมีทั้งหมด 6 ความหมาย จะเห็นว่า คำว่า mint ความหมายที่ 4 หมายถึงใบสะระแหน่ ซึ่งเป็นส่วนหนึ่งของต้นมินท์หรือต้นสะระแหน่ในความหมายที่ 2 และยังเป็นส่วนประกอบของลูกอมรสมินท์ในความหมายที่ 5 อีกด้วย"
   ]
  },
  {
   "cell_type": "code",
   "execution_count": 9,
   "metadata": {},
   "outputs": [
    {
     "name": "stdout",
     "output_type": "stream",
     "text": [
      "batch.n.02: (often followed by `of') a large number or amount or extent\n",
      "mint.n.02: any north temperate plant of the genus Mentha with aromatic leaves and small mauve flowers\n",
      "mint.n.03: any member of the mint family of plants\n",
      "mint.n.04: the leaves of a mint plant used fresh or candied\n",
      "mint.n.05: a candy that is flavored with a mint oil\n",
      "mint.n.06: a plant where money is coined by authority of the government\n",
      "\n",
      "[Synset('mint.n.02')]\n",
      "[Synset('mint.n.05')]\n"
     ]
    }
   ],
   "source": [
    "for synset in wn.synsets('mint', wn.NOUN):\n",
    "    print(synset.name() + ':', synset.definition())\n",
    "    \n",
    "print()\n",
    "print(wn.synset('mint.n.04').part_holonyms())\n",
    "print(wn.synset('mint.n.04').substance_holonyms())"
   ]
  },
  {
   "cell_type": "markdown",
   "metadata": {},
   "source": [
    "#### ความสัมพันธ์ของคำกริยา\n",
    "\n",
    "ในส่วนของคำกริยา มีฟังก์ชันในการหาความสัมพันธ์ของคำ คือ entailment เป็นความสัมพันธ์ที่เป็นกริยาส่งผลหรือเกี่ยวเนื่องจากคำนั้น ๆ เช่น eat (กิน) มีกริยาเกี่ยวเนื่องคือ chew (เคี้ยว) และ swallow (กลืน)"
   ]
  },
  {
   "cell_type": "code",
   "execution_count": 10,
   "metadata": {},
   "outputs": [
    {
     "name": "stdout",
     "output_type": "stream",
     "text": [
      "[Synset('step.v.01')]\n",
      "[Synset('chew.v.01'), Synset('swallow.v.01')]\n",
      "[Synset('arouse.v.07'), Synset('disappoint.v.01')]\n"
     ]
    }
   ],
   "source": [
    "print(wn.synset('walk.v.01').entailments())\n",
    "print(wn.synset('eat.v.01').entailments())\n",
    "print(wn.synset('tease.v.03').entailments())"
   ]
  },
  {
   "cell_type": "markdown",
   "metadata": {},
   "source": [
    "#### คำที่มีความหมายตรงข้าม\n",
    "\n",
    "ฟังก์ชันที่ใช้หาความสัมพันธ์ของคำที่มีความหมายตรงกันข้าม คือ antonyms ซึ่งเป็นฟังก์ชันของ lemma ต่างจากฟังก์ชันเกี่ยวกับความสัมพันธ์ที่กล่าวถึงก่อนหน้านี้ที่เป็นฟังก์ชันของ synset\n",
    "\n",
    "ฟังก์ชัน antonym ใช้กับหน้าที่ของคำได้ทุกรูปแบบ ไม่ว่าจะเป็น noun (n), verb (v), adjective (a) หรือ adverb (r)"
   ]
  },
  {
   "cell_type": "code",
   "execution_count": 32,
   "metadata": {},
   "outputs": [
    {
     "name": "stdout",
     "output_type": "stream",
     "text": [
      "[Lemma('demand.n.02.demand')]\n",
      "[Lemma('decrease.v.01.decrease')]\n",
      "[Lemma('inclined.a.02.inclined'), Lemma('vertical.a.01.vertical')]\n",
      "[Lemma('heavily.r.07.heavily')]\n"
     ]
    }
   ],
   "source": [
    "print(wn.lemma('supply.n.02.supply').antonyms())\n",
    "print(wn.lemma('increase.v.01.increase').antonyms())\n",
    "print(wn.lemma('horizontal.a.01.horizontal').antonyms())\n",
    "print(wn.lemma('lightly.r.04.lightly').antonyms())"
   ]
  },
  {
   "cell_type": "markdown",
   "metadata": {},
   "source": [
    "#### ความคล้ายคลึงกันเชิงความหมาย\n",
    "\n",
    "- แต่ละ synset จะมี hypernym path ที่เชื่อมโยงจาก root hypernym เช่น entity.n.01 \n",
    "- ถ้าสอง synset มี hypernym ร่วมกัน นั่นหมายความว่าทั้งสอง synset นั้นมีความสัมพันธ์ที่ใกล้เคียงในเชิงความหมาย\n",
    "- ฟังก์ชัน lowest_common_hypernym เป็นฟังก์ชันที่คืนค่า hypernym ของ synset ทั้งสองร่วมกันที่มีระยะทางใกล้ที่สุด \n",
    "\n",
    "อธิบายตัวอย่างคำสั่ง\n",
    "- จาก hypernym_pahts() ของ right และ orca จะสังเกตว่า Synset('right_whale.n.01') กับ Synset('orca.n.01') มี synset ที่เป็น hypernyms ร่วมกันที่ใกล้ที่สุด คือ Synset('whale.n.02') \n",
    "- ดังนั้นเมื่อใช้คำสั่ง right.lowest_common_hypernyms(minke) จึงได้ synset('whale.n.02')"
   ]
  },
  {
   "cell_type": "code",
   "execution_count": 39,
   "metadata": {},
   "outputs": [
    {
     "name": "stdout",
     "output_type": "stream",
     "text": [
      "[Synset('baleen_whale.n.01')]\n",
      "[Synset('whale.n.02')]\n",
      "[Synset('vertebrate.n.01')]\n",
      "[Synset('entity.n.01')]\n",
      "\n",
      "[[Synset('entity.n.01'), Synset('physical_entity.n.01'), Synset('object.n.01'), Synset('whole.n.02'), Synset('living_thing.n.01'), Synset('organism.n.01'), Synset('animal.n.01'), Synset('chordate.n.01'), Synset('vertebrate.n.01'), Synset('mammal.n.01'), Synset('placental.n.01'), Synset('aquatic_mammal.n.01'), Synset('cetacean.n.01'), Synset('whale.n.02'), Synset('baleen_whale.n.01'), Synset('right_whale.n.01')]] 16\n",
      "[[Synset('entity.n.01'), Synset('physical_entity.n.01'), Synset('object.n.01'), Synset('whole.n.02'), Synset('living_thing.n.01'), Synset('organism.n.01'), Synset('animal.n.01'), Synset('chordate.n.01'), Synset('vertebrate.n.01'), Synset('mammal.n.01'), Synset('placental.n.01'), Synset('aquatic_mammal.n.01'), Synset('cetacean.n.01'), Synset('whale.n.02'), Synset('baleen_whale.n.01'), Synset('rorqual.n.01'), Synset('lesser_rorqual.n.01')]] 17\n"
     ]
    }
   ],
   "source": [
    "right = wn.synset('right_whale.n.01')\n",
    "orca = wn.synset('orca.n.01')\n",
    "minke = wn.synset('minke_whale.n.01')\n",
    "tortoise = wn.synset('tortoise.n.01')\n",
    "novel = wn.synset('novel.n.01')\n",
    "\n",
    "print(right.lowest_common_hypernyms(minke))\n",
    "print(right.lowest_common_hypernyms(orca))\n",
    "print(right.lowest_common_hypernyms(tortoise))\n",
    "print(right.lowest_common_hypernyms(novel))\n",
    "print()\n",
    "print(right.hypernym_paths(),len(right.hypernym_paths()[0]))\n",
    "print(minke.hypernym_paths(),len(minke.hypernym_paths()[0]))"
   ]
  },
  {
   "cell_type": "markdown",
   "metadata": {
    "collapsed": true
   },
   "source": [
    "เราสามารถใช้ฟังก์ชัน min_depth ในการพิจารณาว่า concept ของคำใดมีความหมายเชิงทั่วไปมากกว่ากัน\n",
    "ตัวอย่างเช่น \n",
    "- vertebrate เป็นคำที่มีความหมายทั่วไป แต่เมื่อเทียบกับ entity เป็นคำที่มีความหมายที่กว้างกว่า\n",
    "- baleen_whale เป็นคำที่มีความหมายเฉพาะเจาะจง ส่วน whale เป็นคำที่มีความหมายทั่วไปกว่า baleen_whale"
   ]
  },
  {
   "cell_type": "code",
   "execution_count": 13,
   "metadata": {},
   "outputs": [
    {
     "name": "stdout",
     "output_type": "stream",
     "text": [
      "14\n",
      "13\n",
      "8\n",
      "0\n"
     ]
    }
   ],
   "source": [
    "print(wn.synset('baleen_whale.n.01').min_depth())\n",
    "print(wn.synset('whale.n.02').min_depth())\n",
    "print(wn.synset('vertebrate.n.01').min_depth())\n",
    "print(wn.synset('entity.n.01').min_depth())"
   ]
  },
  {
   "cell_type": "markdown",
   "metadata": {
    "collapsed": true
   },
   "source": [
    "การวัดความคล้ายคลึงสามารถใช้ฟังก์ชัน path_similarity เพื่อคำนวณหาความคล้ายคลึงตาม concept ของคำ โดยอิงจากเส้นทางที่สั้นที่สุดที่เชื่อมกันเป็นลำดับชั้น ซึ่งจะมีค่าอยู่ระหว่าง 0-1 หากไม่มีความเชื่อมโยงกันจะคืนค่า -1 แต่หากเป็น synset ของตัวเองจะคืนค่า 1 \n",
    "\n",
    "อธิบายตัวอย่างคำสั่ง\n",
    "\n",
    "- จากคะแนนความคล้ายคลึงของเส้นทาง จะพบว่า right whale มีความเชื่อมโยงกับ minke whale, orca, tortoise และ novel ตามลำดับ \n",
    "- สังเกตว่าถ้ามีความหมายคล้ายคลึงกันจะมีค่ามาก ถ้ามีความหมายแตกต่างกันค่าจะน้อยลงเรื่อยๆ แต่คะแนนนี้ก็ไม่ได้สื่อในแง่ความหมายชัดเจนนัก"
   ]
  },
  {
   "cell_type": "code",
   "execution_count": 14,
   "metadata": {},
   "outputs": [
    {
     "name": "stdout",
     "output_type": "stream",
     "text": [
      "0.25\n",
      "0.16666666666666666\n",
      "0.07692307692307693\n",
      "0.043478260869565216\n"
     ]
    }
   ],
   "source": [
    "print(right.path_similarity(minke))\n",
    "print(right.path_similarity(orca))\n",
    "print(right.path_similarity(tortoise))\n",
    "print(right.path_similarity(novel))"
   ]
  }
 ],
 "metadata": {
  "kernelspec": {
   "display_name": "Python 3",
   "language": "python",
   "name": "python3"
  },
  "language_info": {
   "codemirror_mode": {
    "name": "ipython",
    "version": 3
   },
   "file_extension": ".py",
   "mimetype": "text/x-python",
   "name": "python",
   "nbconvert_exporter": "python",
   "pygments_lexer": "ipython3",
   "version": "3.6.1"
  }
 },
 "nbformat": 4,
 "nbformat_minor": 2
}
