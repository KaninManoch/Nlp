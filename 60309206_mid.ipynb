{
 "cells": [
  {
   "cell_type": "code",
   "execution_count": 491,
   "metadata": {
    "collapsed": true
   },
   "outputs": [],
   "source": [
    "import nltk\n",
    "from nltk.corpus import brown\n",
    "from nltk.corpus import words\n",
    "from nltk.corpus import webtext\n",
    "from nltk.corpus import wordnet as wn\n",
    "from nltk.corpus import cmudict\n",
    "from nltk.corpus import inaugural as ig\n",
    "from nltk.book import *\n"
   ]
  },
  {
   "cell_type": "markdown",
   "metadata": {},
   "source": [
    "ข้อ 2."
   ]
  },
  {
   "cell_type": "markdown",
   "metadata": {},
   "source": [
    "ข้อ 2.1 อยู่ในรูปแบบ Overlapping เพราะข้อมูลมีคำซ้อนกันมาก"
   ]
  },
  {
   "cell_type": "markdown",
   "metadata": {},
   "source": [
    "ข้อ 2.2 หาโดยการหาคำที่ขึ้นต้นด้วยตัว I ตัวใหญ่ เพราะลักษณะของชื่อเฉพาะมักจะขึ้นด้วยตัวอักษรตัวใหญ่ และบางครั้งอาจจะเป็นตัวใหญ่ทั้งหมด"
   ]
  },
  {
   "cell_type": "markdown",
   "metadata": {},
   "source": [
    "ข้อ 2.3"
   ]
  },
  {
   "cell_type": "code",
   "execution_count": 490,
   "metadata": {},
   "outputs": [
    {
     "name": "stdout",
     "output_type": "stream",
     "text": [
      "Num : 95\n"
     ]
    },
    {
     "data": {
      "text/plain": [
       "FreqDist({'I': 1,\n          'IAN': 1,\n          'IBID': 1,\n          'ICELAND': 1,\n          'ICELANDIC': 1,\n          'II': 1,\n          'III': 1,\n          'ILE': 1,\n          'IMPOSING': 1,\n          'IN': 1,\n          'INN': 1,\n          'INTO': 1,\n          'IS': 1,\n          'ISAIAH': 1,\n          'ISHMAEL': 1,\n          'ISLAND': 1,\n          'ISLANDS': 1,\n          'ISOLATO': 1,\n          'ISOLATOES': 1,\n          'IT': 1,\n          'ITS': 1,\n          'IV': 1,\n          'IVORY': 1,\n          'Iceberg': 1,\n          'Icebergs': 1,\n          'Iceland': 1,\n          'Icelandic': 1,\n          'Icy': 1,\n          'If': 1,\n          'Ifs': 1,\n          'Ignorance': 1,\n          'Illinois': 1,\n          'Immediately': 1,\n          'Immemorial': 1,\n          'Immense': 1,\n          'Immortal': 1,\n          'Impenetrable': 1,\n          'Imperial': 1,\n          'Impiety': 1,\n          'Impossible': 1,\n          'Imprimis': 1,\n          'Improving': 1,\n          'In': 1,\n          'Inasmuch': 1,\n          'Indeed': 1,\n          'India': 1,\n          'Indiaman': 1,\n          'Indiamen': 1,\n          'Indian': 1,\n          'Indians': 1,\n          'Indies': 1,\n          'Indolence': 1,\n          'Inert': 1,\n          'Inferable': 1,\n          'Ingin': 1,\n          'Inlanders': 1,\n          'Inn': 1,\n          'Innkeeper': 1,\n          'Innocents': 1,\n          'Inquisition': 1,\n          'Inserting': 1,\n          'Instances': 1,\n          'Instantly': 1,\n          'Instead': 1,\n          'Insufferable': 1,\n          'Insurance': 1,\n          'Interweaving': 1,\n          'Into': 1,\n          'Intolerably': 1,\n          'Invisible': 1,\n          'Inward': 1,\n          'Io': 1,\n          'Ireland': 1,\n          'Irish': 1,\n          'Iron': 1,\n          'Iroquois': 1,\n          'Is': 1,\n          'Isabella': 1,\n          'Isaiah': 1,\n          'Ishmael': 1,\n          'Island': 1,\n          'Islanders': 1,\n          'Islands': 1,\n          'Isle': 1,\n          'Isles': 1,\n          'Isolatoes': 1,\n          'Israel': 1,\n          'Israelites': 1,\n          'Issuing': 1,\n          'Isthmus': 1,\n          'It': 1,\n          'Italian': 1,\n          'Italy': 1,\n          'Its': 1,\n          'Ixion': 1})"
      ]
     },
     "execution_count": 490,
     "metadata": {},
     "output_type": "execute_result"
    }
   ],
   "source": [
    "list = [w for w in text1.vocab().keys() if str(w).startswith('I')]\n",
    "fdlist = FreqDist(list)\n",
    "print('Num : ' + str(len(fdlist.keys())))\n",
    "fdlist"
   ]
  },
  {
   "cell_type": "markdown",
   "metadata": {},
   "source": [
    "ข้อ 2.4 มีรายชื่อดังนี้ ISAIAH ISHMAEL Ixion"
   ]
  },
  {
   "cell_type": "markdown",
   "metadata": {},
   "source": [
    "ข้อ 3."
   ]
  },
  {
   "cell_type": "code",
   "execution_count": 11,
   "metadata": {},
   "outputs": [],
   "source": [
    "brown.categories()\n",
    "list = ['adventure', 'fiction', 'news', 'reviews', 'religion', 'romance']"
   ]
  },
  {
   "cell_type": "code",
   "execution_count": 13,
   "metadata": {
    "collapsed": false
   },
   "outputs": [
    {
     "name": "stdout",
     "output_type": "stream",
     "text": [
      "adventure : token = 69342 vocab = 8874 Lexical diversity = 0.13\n"
     ]
    },
    {
     "name": "stdout",
     "output_type": "stream",
     "text": [
      "fiction : token = 68488 vocab = 9302 Lexical diversity = 0.14\n"
     ]
    },
    {
     "name": "stdout",
     "output_type": "stream",
     "text": [
      "news : token = 100554 vocab = 14394 Lexical diversity = 0.14\n"
     ]
    },
    {
     "name": "stdout",
     "output_type": "stream",
     "text": [
      "reviews : token = 40704 vocab = 8626 Lexical diversity = 0.21\n"
     ]
    },
    {
     "name": "stdout",
     "output_type": "stream",
     "text": [
      "religion : token = 39399 vocab = 6373 Lexical diversity = 0.16\n"
     ]
    },
    {
     "name": "stdout",
     "output_type": "stream",
     "text": [
      "romance : token = 70022 vocab = 8452 Lexical diversity = 0.12\n"
     ]
    }
   ],
   "source": [
    "for category in list:\n",
    "    print(category +' : token = '+ str(len(brown.words(categories=category))) + ' vocab = ' +\n",
    "        str(len(set(brown.words(categories=category)))) + ' Lexical diversity = ' +\n",
    "        format(len(set(brown.words(categories=category)))/\n",
    "                len(brown.words(categories=category)),'.2f'))"
   ]
  },
  {
   "cell_type": "markdown",
   "metadata": {},
   "source": [
    "Category ที่มีความหลากหลายน้อยที่สุดก็คือ Romance"
   ]
  },
  {
   "cell_type": "markdown",
   "metadata": {},
   "source": [
    "ข้อ 4."
   ]
  },
  {
   "cell_type": "code",
   "execution_count": 30,
   "metadata": {},
   "outputs": [],
   "source": [
    "def unknown(text):\n",
    "    text_vocab = set(w.lower() for w in text if w.isalpha())\n",
    "    english_vocab = set(w.lower() for w in words.words())\n",
    "    unusual = text_vocab - english_vocab\n",
    "    return sorted(unusual)"
   ]
  },
  {
   "cell_type": "code",
   "execution_count": 31,
   "metadata": {},
   "outputs": [
    {
     "data": {
      "text/plain": [
       "7538"
      ]
     },
     "execution_count": 31,
     "metadata": {},
     "output_type": "execute_result"
    }
   ],
   "source": [
    "len(unknown(webtext.words()))"
   ]
  },
  {
   "cell_type": "markdown",
   "metadata": {},
   "source": [
    "ข้อ 4.1 พบ 7538 คำ"
   ]
  },
  {
   "cell_type": "markdown",
   "metadata": {},
   "source": [
    "ข้อ 5 "
   ]
  },
  {
   "cell_type": "markdown",
   "metadata": {},
   "source": [
    "ข้อ 5.1"
   ]
  },
  {
   "cell_type": "code",
   "execution_count": 35,
   "metadata": {},
   "outputs": [],
   "source": [
    "len_list = []\n",
    "for word in unknown(webtext.words()):\n",
    "    len_list.append(len(word))\n",
    "fdlist = nltk.FreqDist(len_list)"
   ]
  },
  {
   "cell_type": "markdown",
   "metadata": {},
   "source": [
    "ข้อ 5.2"
   ]
  },
  {
   "cell_type": "code",
   "execution_count": 37,
   "metadata": {},
   "outputs": [
    {
     "data": {
      "text/plain": [
       "7"
      ]
     },
     "execution_count": 37,
     "metadata": {},
     "output_type": "execute_result"
    }
   ],
   "source": [
    "fdlist.max()"
   ]
  },
  {
   "cell_type": "markdown",
   "metadata": {},
   "source": [
    "คำที่มีความถี่สูงที่สุดมีความยาว 7 ตัวอักษร"
   ]
  },
  {
   "cell_type": "markdown",
   "metadata": {},
   "source": [
    "ข้อ 5.3 "
   ]
  },
  {
   "cell_type": "code",
   "execution_count": 38,
   "metadata": {},
   "outputs": [
    {
     "data": {
      "text/plain": [
       "[(7, 1292),\n (6, 1135),\n (8, 1025),\n (5, 880),\n (9, 836),\n (4, 528),\n (10, 526),\n (3, 373),\n (11, 334),\n (12, 169),\n (2, 133),\n (13, 119),\n (14, 47),\n (15, 42),\n (16, 28),\n (17, 15),\n (20, 10),\n (1, 9),\n (19, 7),\n (22, 7),\n (18, 5),\n (24, 5),\n (21, 4),\n (23, 3),\n (26, 3),\n (25, 1),\n (27, 1),\n (28, 1)]"
      ]
     },
     "execution_count": 38,
     "metadata": {},
     "output_type": "execute_result"
    }
   ],
   "source": [
    "fdlist.most_common()"
   ]
  },
  {
   "cell_type": "markdown",
   "metadata": {},
   "source": [
    "คำที่มีความถี่ต่ำสุดมีความยาว 25,27,28 ตัวอักษร"
   ]
  },
  {
   "cell_type": "markdown",
   "metadata": {},
   "source": [
    "ข้อ 8"
   ]
  },
  {
   "cell_type": "code",
   "execution_count": 41,
   "metadata": {},
   "outputs": [
    {
     "data": {
      "text/plain": [
       "['The', 'fox', 'the', 'dog']"
      ]
     },
     "execution_count": 41,
     "metadata": {},
     "output_type": "execute_result"
    }
   ],
   "source": [
    "[w for w in 'The quick brown fox jumps over the lazy dog'.split() if(len(w) == 3)]\n"
   ]
  },
  {
   "cell_type": "markdown",
   "metadata": {},
   "source": [
    "ข้อ 9"
   ]
  },
  {
   "cell_type": "code",
   "execution_count": 446,
   "metadata": {},
   "outputs": [],
   "source": [
    "def my_bigram(text, word):\n",
    "    bigram = bigrams(text)\n",
    "    cfd = nltk.ConditionalFreqDist(bigram)\n",
    "    list = cfd.conditions()\n",
    "    list2 = [w for w in list if(cfd[w][word] >= 1)]\n",
    "    f_list = []\n",
    "    for w in list2:\n",
    "        for q in range(cfd[w][word]):\n",
    "            f_list.append(w)\n",
    "    fdlist = FreqDist(f_list)\n",
    "    return fdlist"
   ]
  },
  {
   "cell_type": "code",
   "execution_count": 457,
   "metadata": {},
   "outputs": [
    {
     "name": "stdout",
     "output_type": "stream",
     "text": [
      "[('fellow', 60), ('-', 34), ('our', 21), ('Fellow', 16), ('its', 12)]\n"
     ]
    }
   ],
   "source": [
    "fdlist = my_bigram(ig.words(), 'citizens')\n",
    "print(fdlist.most_common()[:5])"
   ]
  },
  {
   "cell_type": "markdown",
   "metadata": {},
   "source": [
    "ข้อ 9.1 citizens คำว่า fellow ความถี่ 60"
   ]
  },
  {
   "cell_type": "code",
   "execution_count": 458,
   "metadata": {},
   "outputs": [
    {
     "name": "stdout",
     "output_type": "stream",
     "text": [
      "[('the', 243), ('our', 73), ('American', 39), ('a', 23), ('The', 16)]\n"
     ]
    }
   ],
   "source": [
    "fdlist = my_bigram(ig.words(), 'people')\n",
    "print(fdlist.most_common()[:5])"
   ]
  },
  {
   "cell_type": "markdown",
   "metadata": {},
   "source": [
    "ข้อ 9.2 people คำว่า the ความถี่ 243"
   ]
  },
  {
   "cell_type": "code",
   "execution_count": 459,
   "metadata": {},
   "outputs": [
    {
     "name": "stdout",
     "output_type": "stream",
     "text": [
      "[('of', 65), ('-', 30), ('a', 24), ('the', 15), ('free', 11)]\n"
     ]
    }
   ],
   "source": [
    "fdlist = my_bigram(ig.words(), 'government')\n",
    "print(fdlist.most_common()[:5])"
   ]
  },
  {
   "cell_type": "markdown",
   "metadata": {},
   "source": [
    "ข้อ 9.3 government คำว่า of ความถี่ 65"
   ]
  },
  {
   "cell_type": "markdown",
   "metadata": {},
   "source": [
    "ข้อ 10"
   ]
  },
  {
   "cell_type": "code",
   "execution_count": null,
   "metadata": {},
   "outputs": [
    {
     "data": {
      "text/plain": [
       "[Synset('cetacean.n.01'), Synset('cetacean.a.01')]"
      ]
     },
     "execution_count": 73,
     "metadata": {},
     "output_type": "execute_result"
    }
   ],
   "source": [
    "wn.synsets('cetacean')"
   ]
  },
  {
   "cell_type": "markdown",
   "metadata": {},
   "source": [
    "ข้อ 10.1 "
   ]
  },
  {
   "cell_type": "code",
   "execution_count": 82,
   "metadata": {},
   "outputs": [],
   "source": [
    "definition = wn.synset('cetacean.n.01').definition()"
   ]
  },
  {
   "cell_type": "code",
   "execution_count": 86,
   "metadata": {},
   "outputs": [
    {
     "data": {
      "text/plain": [
       "'definition of word is :  large aquatic carnivorous mammal with fin-like forelimbs no hind limbs, including: whales; dolphins; porpoises; narwhals'"
      ]
     },
     "execution_count": 86,
     "metadata": {},
     "output_type": "execute_result"
    }
   ],
   "source": [
    "'definition of word is :  ' + noun"
   ]
  },
  {
   "cell_type": "markdown",
   "metadata": {},
   "source": [
    "ข้อ 10.2"
   ]
  },
  {
   "cell_type": "code",
   "execution_count": 87,
   "metadata": {},
   "outputs": [
    {
     "data": {
      "text/plain": [
       "['cetacean', 'cetacean_mammal', 'blower']"
      ]
     },
     "execution_count": 87,
     "metadata": {},
     "output_type": "execute_result"
    }
   ],
   "source": [
    "wn.synset('cetacean.n.01').lemma_names()"
   ]
  },
  {
   "cell_type": "markdown",
   "metadata": {},
   "source": [
    "คำที่อยู่ใน synonyms มีทั้งหมด 3 คำ"
   ]
  },
  {
   "cell_type": "markdown",
   "metadata": {},
   "source": [
    "ข้อ 10.3 "
   ]
  },
  {
   "cell_type": "code",
   "execution_count": 92,
   "metadata": {},
   "outputs": [],
   "source": [
    "mm = wn.synset('mammal.n.01')\n",
    "hm = wn.synset('homo.n.01')\n",
    "dp = wn.synset('dolphin.n.01')"
   ]
  },
  {
   "cell_type": "code",
   "execution_count": 96,
   "metadata": {},
   "outputs": [
    {
     "name": "stdout",
     "output_type": "stream",
     "text": [
      "mammal and homo = 0.14285714285714285\nmammal and dolphin = 0.1111111111111111\nhomo and dolphin = 0.07692307692307693\n"
     ]
    }
   ],
   "source": [
    "print('mammal and homo = ' + str(mm.path_similarity(hm)))\n",
    "print('mammal and dolphin = ' + str(mm.path_similarity(dp)))\n",
    "print('homo and dolphin = ' + str(hm.path_similarity(dp)))\n"
   ]
  },
  {
   "cell_type": "markdown",
   "metadata": {},
   "source": [
    "คำที่มีมีความหมายใกล้เคียงมากที่สุดคือ mammal และ homo\n",
    "คำที่มีความหมายใกล้เคียงน้อยที่สุดคือ homo และ dolphin\n",
    "ใช้คำสั่ง path_similarity ในการตรวจสอบ โดยมีความหมายคือ ใช้ shortest path ในการเชื่อม hypernym (จะรีเทิร์น -1 ในกรณีที่หา path ไม่เจอ)\n",
    "แล้วนำมาเปรียบเทียบกับ synset ของตัวเองที่มีค่าเป็น 1"
   ]
  },
  {
   "cell_type": "markdown",
   "metadata": {},
   "source": [
    "ข้อ 10.4"
   ]
  },
  {
   "cell_type": "code",
   "execution_count": 97,
   "metadata": {},
   "outputs": [],
   "source": [
    "ctc = wn.synset('cetacean.n.01')\n",
    "ctc_mm = wn.synset('cetacean_mammal.n.01')\n",
    "bw = wn.synset('blower.n.01')"
   ]
  },
  {
   "cell_type": "code",
   "execution_count": 104,
   "metadata": {},
   "outputs": [
    {
     "data": {
      "text/plain": [
       "[Synset('entity.n.01')]"
      ]
     },
     "execution_count": 104,
     "metadata": {},
     "output_type": "execute_result"
    }
   ],
   "source": [
    "ctc.root_hypernyms()"
   ]
  },
  {
   "cell_type": "markdown",
   "metadata": {},
   "source": [
    "ข้อ 11"
   ]
  },
  {
   "cell_type": "code",
   "execution_count": 106,
   "metadata": {},
   "outputs": [],
   "source": [
    "prondict = cmudict.dict()\n",
    "\n",
    "def syllable(word):  \n",
    "    try:\n",
    "        return len([ph for ph in prondict[word.lower()]])\n",
    "    except Exception as error:\n",
    "        return 0;"
   ]
  },
  {
   "cell_type": "markdown",
   "metadata": {},
   "source": [
    "ข้อ 12"
   ]
  },
  {
   "cell_type": "code",
   "execution_count": 113,
   "metadata": {
    "collapsed": false
   },
   "outputs": [
    {
     "data": {
      "text/plain": [
       "[(1, 63364), (2, 46906), (3, 19092), (0, 14280), (4, 2092), (5, 1)]"
      ]
     },
     "execution_count": 113,
     "metadata": {},
     "output_type": "execute_result"
    }
   ],
   "source": [
    "list = [syllable(w.lower()) for w in ig.words()]\n",
    "fdlist = nltk.FreqDist(list)\n",
    "fdlist.most_common()"
   ]
  },
  {
   "cell_type": "code",
   "execution_count": 126,
   "metadata": {},
   "outputs": [
    {
     "data": {
      "text/plain": [
       "'1.53'"
      ]
     },
     "execution_count": 126,
     "metadata": {},
     "output_type": "execute_result"
    }
   ],
   "source": [
    "list2 = len(ig.words())\n",
    "syl_value = 0\n",
    "for syl in fdlist.keys():\n",
    "    syl_value += fdlist[syl] * syl\n",
    "syl_per_word = syl_value / list2\n",
    "format(syl_per_word,'.2f')"
   ]
  },
  {
   "cell_type": "markdown",
   "metadata": {},
   "source": [
    "ข้อ 12.1 จำนวนพยางค์ที่ยาวที่สุด มีความยาว 5 พยางค์"
   ]
  },
  {
   "cell_type": "markdown",
   "metadata": {},
   "source": [
    "ข้อ 12.2 จำนวนพยางค์ที่มีความถี่สูงสุด มีความยาว 1 พยางค์"
   ]
  },
  {
   "cell_type": "markdown",
   "metadata": {},
   "source": [
    "ข้อ 12.3 ค่าเฉลี่ยของจำนวนพยางค์ต่อคำ มีความยาว 1.53 พยางค์"
   ]
  },
  {
   "cell_type": "markdown",
   "metadata": {},
   "source": [
    "ข้อ 13."
   ]
  },
  {
   "cell_type": "markdown",
   "metadata": {},
   "source": [
    "ข้อ 13.1"
   ]
  },
  {
   "cell_type": "markdown",
   "metadata": {},
   "source": [
    "RE = 206.835 – (1.015 x ASL) – (84.6 x ASW) \n",
    "\n",
    "RE = Readability Ease \n",
    "\n",
    "ASL = Average Sentence Length (i.e., the number of words divided by the number of sentences) \n",
    "\n",
    "ASW = Average number of syllables per word (i.e., the number of syllables divided by the number of words) \n",
    "\n",
    "The output, i.e., RE is a number ranging from 0 to 100. The higher the number, the easier the text is to read. \n",
    "\n",
    " Scores between 90.0 and 100.0 are considered easily understandable by an average 5th grader.\n",
    "\n",
    " Scores between 60.0 and 70.0 are considered easily understood by 8th and 9th graders\n",
    "\n",
    " Scores between 0.0 and 30.0 are considered easily understood by college graduates.\n",
    "\n",
    "90-100 : Very Easy \n",
    "\n",
    "80-89 : Easy\n",
    " \n",
    "70-79 : Fairly Easy \n",
    "\n",
    "60-69 : Standard\n",
    " \n",
    "50-59 : Fairly Difficult\n",
    " \n",
    "30-49 : Difficult\n",
    " \n",
    "0-29 : Very Confusing\n",
    " \n",
    "Ref : http://www.readabilityformulas.com/flesch-reading-ease-readability-formula.php"
   ]
  },
  {
   "cell_type": "markdown",
   "metadata": {},
   "source": [
    "ข้อ 13.2"
   ]
  },
  {
   "cell_type": "code",
   "execution_count": 1,
   "metadata": {},
   "outputs": [],
   "source": [
    "def readability_ease(asl,asw):\n",
    "    return 206.835 - (1.015 * asl) - (84.6 * asw)"
   ]
  },
  {
   "cell_type": "markdown",
   "metadata": {},
   "source": [
    "ข้อ 13.3"
   ]
  },
  {
   "cell_type": "code",
   "execution_count": null,
   "metadata": {},
   "outputs": [],
   "source": [
    "def grade_cal(text):\n",
    "    sents = text.split('.')\n",
    "    asl = sum(len(x.split()) for x in sents) / len(sents)"
   ]
  }
 ],
 "metadata": {
  "kernelspec": {
   "display_name": "Python 2",
   "language": "python",
   "name": "python2"
  },
  "language_info": {
   "codemirror_mode": {
    "name": "ipython",
    "version": 2
   },
   "file_extension": ".py",
   "mimetype": "text/x-python",
   "name": "python",
   "nbconvert_exporter": "python",
   "pygments_lexer": "ipython2",
   "version": "2.7.6"
  }
 },
 "nbformat": 4,
 "nbformat_minor": 0
}
