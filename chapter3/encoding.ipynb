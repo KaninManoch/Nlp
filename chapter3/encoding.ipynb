{
 "cells": [
  {
   "cell_type": "code",
   "execution_count": 2,
   "metadata": {},
   "outputs": [
    {
     "name": "stdout",
     "output_type": "stream",
     "text": [
      "C:\\Users\\ASUS\\AppData\\Roaming\\nltk_data\\corpora\\unicode_samples\\polish-lat2.txt\n"
     ]
    }
   ],
   "source": [
    "import nltk\n",
    "\n",
    "path = nltk.data.find('corpora/unicode_samples/polish-lat2.txt')\n",
    "print(path)"
   ]
  },
  {
   "cell_type": "code",
   "execution_count": 3,
   "metadata": {},
   "outputs": [
    {
     "name": "stdout",
     "output_type": "stream",
     "text": [
      "Pruska Biblioteka Państwowa. Jej dawne zbiory znane pod nazwą\n",
      "\"Berlinka\" to skarb kultury i sztuki niemieckiej. Przewiezione przez\n",
      "Niemców pod koniec II wojny światowej na Dolny Śląsk, zostały\n",
      "odnalezione po 1945 r. na terytorium Polski. Trafiły do Biblioteki\n",
      "Jagiellońskiej w Krakowie, obejmują ponad 500 tys. zabytkowych\n",
      "archiwaliów, m.in. manuskrypty Goethego, Mozarta, Beethovena, Bacha.\n"
     ]
    }
   ],
   "source": [
    "f = open(path, encoding='latin2')\n",
    "for line in f:\n",
    "    line = line.strip()\n",
    "    print(line)"
   ]
  },
  {
   "cell_type": "code",
   "execution_count": 7,
   "metadata": {},
   "outputs": [
    {
     "name": "stdout",
     "output_type": "stream",
     "text": [
      "b'Pruska Biblioteka Pa\\\\u0144stwowa. Jej dawne zbiory znane pod nazw\\\\u0105'\n",
      "b'\"Berlinka\" to skarb kultury i sztuki niemieckiej. Przewiezione przez'\n",
      "b'Niemc\\\\xf3w pod koniec II wojny \\\\u015bwiatowej na Dolny \\\\u015al\\\\u0105sk, zosta\\\\u0142y'\n",
      "b'odnalezione po 1945 r. na terytorium Polski. Trafi\\\\u0142y do Biblioteki'\n",
      "b'Jagiello\\\\u0144skiej w Krakowie, obejmuj\\\\u0105 ponad 500 tys. zabytkowych'\n",
      "b'archiwali\\\\xf3w, m.in. manuskrypty Goethego, Mozarta, Beethovena, Bacha.'\n"
     ]
    }
   ],
   "source": [
    "f = open(path, encoding='latin2')\n",
    "for line in f:\n",
    "    line = line.strip()\n",
    "    print(line.encode('unicode_escape'))"
   ]
  },
  {
   "cell_type": "code",
   "execution_count": 13,
   "metadata": {},
   "outputs": [
    {
     "name": "stdout",
     "output_type": "stream",
     "text": [
      "324\n",
      "0x144\n",
      "ń\n",
      "b'\\xc5\\x84'\n"
     ]
    }
   ],
   "source": [
    "print(ord('ń'))\n",
    "print(hex(324))\n",
    "nacute = '\\u0144'\n",
    "print(nacute)\n",
    "print(nacute.encode('utf8'))\n"
   ]
  },
  {
   "cell_type": "code",
   "execution_count": 46,
   "metadata": {},
   "outputs": [
    {
     "name": "stdout",
     "output_type": "stream",
     "text": [
      "b'Niemc\\\\xf3w pod koniec II wojny \\\\u015bwiatowej na Dolny \\\\u015al\\\\u0105sk, zosta\\\\u0142y\\\\n'\n"
     ]
    }
   ],
   "source": [
    "import unicodedata\n",
    "lines = open(path, encoding='latin2').readlines()\n",
    "line = lines[2]\n",
    "print(line.encode('unicode_escape'))"
   ]
  },
  {
   "cell_type": "code",
   "execution_count": 47,
   "metadata": {},
   "outputs": [
    {
     "name": "stdout",
     "output_type": "stream",
     "text": [
      "b'\\xc3\\xb3' 243 LATIN SMALL LETTER O WITH ACUTE\n",
      "b'\\xc5\\x9b' 347 LATIN SMALL LETTER S WITH ACUTE\n",
      "b'\\xc5\\x9a' 346 LATIN CAPITAL LETTER S WITH ACUTE\n",
      "b'\\xc4\\x85' 261 LATIN SMALL LETTER A WITH OGONEK\n",
      "b'\\xc5\\x82' 322 LATIN SMALL LETTER L WITH STROKE\n"
     ]
    }
   ],
   "source": [
    "for c in line:\n",
    "    if ord(c) > 127:\n",
    "        print(c.encode('utf8'), ord(c), unicodedata.name(c))"
   ]
  },
  {
   "cell_type": "code",
   "execution_count": 50,
   "metadata": {},
   "outputs": [
    {
     "name": "stdout",
     "output_type": "stream",
     "text": [
      "ó 243 b'\\\\xf3' LATIN SMALL LETTER O WITH ACUTE\n",
      "ś 347 b'\\\\u015b' LATIN SMALL LETTER S WITH ACUTE\n",
      "Ś 346 b'\\\\u015a' LATIN CAPITAL LETTER S WITH ACUTE\n",
      "ą 261 b'\\\\u0105' LATIN SMALL LETTER A WITH OGONEK\n",
      "ł 322 b'\\\\u0142' LATIN SMALL LETTER L WITH STROKE\n"
     ]
    }
   ],
   "source": [
    "for c in line:\n",
    "    if ord(c) > 127:\n",
    "        print(c, ord(c), c.encode('unicode_escape'), unicodedata.name(c))"
   ]
  },
  {
   "cell_type": "code",
   "execution_count": 53,
   "metadata": {},
   "outputs": [
    {
     "name": "stdout",
     "output_type": "stream",
     "text": [
      "Niemców pod koniec II wojny światowej na Dolny Śląsk, zostały\n",
      "\n",
      "['Niemców', 'pod', 'koniec', 'II', 'wojny', 'światowej', 'na', 'Dolny', 'Śląsk', ',', 'zostały']\n"
     ]
    }
   ],
   "source": [
    "print(line)\n",
    "print(nltk.word_tokenize(line))"
   ]
  },
  {
   "cell_type": "code",
   "execution_count": 42,
   "metadata": {},
   "outputs": [
    {
     "name": "stdout",
     "output_type": "stream",
     "text": [
      "9\n",
      "['จุดเด่นของภาษาไพทอน\\n', 'ความเป็นภาษาสคริปต์\\n', 'เนื่องจากไพทอนเป็นภาษาสคริปต์ ทำให้ใช้เวลาในการเขียนและคอมไพล์ไม่มาก ทำให้เหมาะกับงานด้านการดูแลระบบ (System administration) เป็นอย่างยิ่ง ได้มีการสนับสนุนภาษาไพทอนโดยเป็นส่วนหนึ่งของระบบปฏิบัติการยูนิกซ์, ลินุกซ์ และสามารถติดตั้งให้ทำงานเป็นภาษาสคริปต์ของวินโดวส์ ผ่านระบบ en:Windows Script Host ได้อีกด้วย\\n', '\\n', 'ไวยากรณ์ที่อ่านง่าย\\n', 'ไวยากรณ์ของไพทอนได้กำจัดการใช้สัญลักษณ์ที่ใช้ในการแบ่งบล็อกของโปรแกรม และใช้การย่อหน้าแทน ทำให้สามารถอ่านโปรแกรมที่เขียนได้ง่าย นอกจากนั้นยังมีการสนับสนุนการเขียน docstring ซึ่งเป็นข้อความสั้นๆ ที่ใช้อธิบายการทำงานของฟังก์ชัน, คลาส, และโมดูลอีกด้วย\\n', '\\n', 'ความเป็นภาษากาว\\n', 'ไพทอนเป็นภาษากาว (Glue Language) ได้อย่างดีเนื่องจากสามารถเรียกใช้ภาษาโปรแกรมอื่นๆ ได้หลายภาษา ทำให้เหมาะที่จะใช้เขียนเพื่อประสานงานโปรแกรมที่เขียนในภาษาต่างกันได้']\n",
      "จุดเด่นของภาษาไพทอน\n",
      "\n",
      "ความเป็นภาษาสคริปต์\n",
      "\n",
      "เนื่องจากไพทอนเป็นภาษาสคริปต์ ทำให้ใช้เวลาในการเขียนและคอมไพล์ไม่มาก ทำให้เหมาะกับงานด้านการดูแลระบบ (System administration) เป็นอย่างยิ่ง ได้มีการสนับสนุนภาษาไพทอนโดยเป็นส่วนหนึ่งของระบบปฏิบัติการยูนิกซ์, ลินุกซ์ และสามารถติดตั้งให้ทำงานเป็นภาษาสคริปต์ของวินโดวส์ ผ่านระบบ en:Windows Script Host ได้อีกด้วย\n",
      "\n",
      "\n",
      "\n",
      "ไวยากรณ์ที่อ่านง่าย\n",
      "\n",
      "ไวยากรณ์ของไพทอนได้กำจัดการใช้สัญลักษณ์ที่ใช้ในการแบ่งบล็อกของโปรแกรม และใช้การย่อหน้าแทน ทำให้สามารถอ่านโปรแกรมที่เขียนได้ง่าย นอกจากนั้นยังมีการสนับสนุนการเขียน docstring ซึ่งเป็นข้อความสั้นๆ ที่ใช้อธิบายการทำงานของฟังก์ชัน, คลาส, และโมดูลอีกด้วย\n",
      "\n",
      "\n",
      "\n",
      "ความเป็นภาษากาว\n",
      "\n",
      "ไพทอนเป็นภาษากาว (Glue Language) ได้อย่างดีเนื่องจากสามารถเรียกใช้ภาษาโปรแกรมอื่นๆ ได้หลายภาษา ทำให้เหมาะที่จะใช้เขียนเพื่อประสานงานโปรแกรมที่เขียนในภาษาต่างกันได้\n"
     ]
    }
   ],
   "source": [
    "thai_lines = open('thaitext.txt', encoding='utf8').readlines()\n",
    "print(len(thai_lines))\n",
    "print(thai_lines)\n",
    "for line in thai_lines:\n",
    "    print(line)"
   ]
  },
  {
   "cell_type": "code",
   "execution_count": 59,
   "metadata": {},
   "outputs": [
    {
     "name": "stdout",
     "output_type": "stream",
     "text": [
      "จุดเด่นของภาษาไพทอน\n",
      "ความเป็นภาษาสคริปต์\n",
      "เนื่องจากไพทอนเป็นภาษาสคริปต์ ทำให้ใช้เวลาในการเขียนและคอมไพล์ไม่มาก ทำให้เหมาะกับงานด้านการดูแลระบบ (System administration) เป็นอย่างยิ่ง ได้มีการสนับสนุนภาษาไพทอนโดยเป็นส่วนหนึ่งของระบบปฏิบัติการยูนิกซ์, ลินุกซ์ และสามารถติดตั้งให้ทำงานเป็นภาษาสคริปต์ของวินโดวส์ ผ่านระบบ en:Windows Script Host ได้อีกด้วย\n",
      "\n",
      "ไวยากรณ์ที่อ่านง่าย\n",
      "ไวยากรณ์ของไพทอนได้กำจัดการใช้สัญลักษณ์ที่ใช้ในการแบ่งบล็อกของโปรแกรม และใช้การย่อหน้าแทน ทำให้สามารถอ่านโปรแกรมที่เขียนได้ง่าย นอกจากนั้นยังมีการสนับสนุนการเขียน docstring ซึ่งเป็นข้อความสั้นๆ ที่ใช้อธิบายการทำงานของฟังก์ชัน, คลาส, และโมดูลอีกด้วย\n",
      "\n",
      "ความเป็นภาษากาว\n",
      "ไพทอนเป็นภาษากาว (Glue Language) ได้อย่างดีเนื่องจากสามารถเรียกใช้ภาษาโปรแกรมอื่นๆ ได้หลายภาษา ทำให้เหมาะที่จะใช้เขียนเพื่อประสานงานโปรแกรมที่เขียนในภาษาต่างกันได้\n"
     ]
    }
   ],
   "source": [
    "f = open('thaitext.txt', encoding='utf8')\n",
    "for line in f:\n",
    "    line = line.strip()\n",
    "    print(line)"
   ]
  },
  {
   "cell_type": "code",
   "execution_count": 45,
   "metadata": {},
   "outputs": [
    {
     "name": "stdout",
     "output_type": "stream",
     "text": [
      "ความเป็นภาษาสคริปต์\n",
      "\n",
      "ค b'\\\\u0e04' 3588 THAI CHARACTER KHO KHWAI\n",
      "ว b'\\\\u0e27' 3623 THAI CHARACTER WO WAEN\n",
      "า b'\\\\u0e32' 3634 THAI CHARACTER SARA AA\n",
      "ม b'\\\\u0e21' 3617 THAI CHARACTER MO MA\n",
      "เ b'\\\\u0e40' 3648 THAI CHARACTER SARA E\n",
      "ป b'\\\\u0e1b' 3611 THAI CHARACTER PO PLA\n",
      "็ b'\\\\u0e47' 3655 THAI CHARACTER MAITAIKHU\n",
      "น b'\\\\u0e19' 3609 THAI CHARACTER NO NU\n",
      "ภ b'\\\\u0e20' 3616 THAI CHARACTER PHO SAMPHAO\n",
      "า b'\\\\u0e32' 3634 THAI CHARACTER SARA AA\n",
      "ษ b'\\\\u0e29' 3625 THAI CHARACTER SO RUSI\n",
      "า b'\\\\u0e32' 3634 THAI CHARACTER SARA AA\n",
      "ส b'\\\\u0e2a' 3626 THAI CHARACTER SO SUA\n",
      "ค b'\\\\u0e04' 3588 THAI CHARACTER KHO KHWAI\n",
      "ร b'\\\\u0e23' 3619 THAI CHARACTER RO RUA\n",
      "ิ b'\\\\u0e34' 3636 THAI CHARACTER SARA I\n",
      "ป b'\\\\u0e1b' 3611 THAI CHARACTER PO PLA\n",
      "ต b'\\\\u0e15' 3605 THAI CHARACTER TO TAO\n",
      "์ b'\\\\u0e4c' 3660 THAI CHARACTER THANTHAKHAT\n"
     ]
    }
   ],
   "source": [
    "thai_line = thai_lines[1]\n",
    "print(thai_line)\n",
    "\n",
    "for c in thai_line:\n",
    "    if ord(c) > 127:\n",
    "        print(c, c.encode('unicode_escape'), ord(c), unicodedata.name(c))"
   ]
  },
  {
   "cell_type": "code",
   "execution_count": 63,
   "metadata": {},
   "outputs": [
    {
     "name": "stdout",
     "output_type": "stream",
     "text": [
      "['ความ', 'เป็น', 'ภาษา', 'สคริปต์', '\\n']\n",
      "['ความ', 'เป็น', 'ภาษา', 'สคริปต์']\n"
     ]
    }
   ],
   "source": [
    "import pythainlp\n",
    "\n",
    "print(pythainlp.word_tokenize(thai_line))\n",
    "print(pythainlp.word_tokenize(thai_line.strip()))"
   ]
  },
  {
   "cell_type": "code",
   "execution_count": 67,
   "metadata": {},
   "outputs": [
    {
     "name": "stdout",
     "output_type": "stream",
     "text": [
      "['จุดเด่น', 'ของ', 'ภาษา', 'ไพ', 'ทอน']\n",
      "['ความ', 'เป็น', 'ภาษา', 'สคริปต์']\n",
      "['เนื่องจาก', 'ไพ', 'ทอน', 'เป็น', 'ภาษา', 'สคริปต์', ' ', 'ทำให้', 'ใช้เวลา', 'ใน', 'การเขียน', 'และ', 'คอมไพล์', 'ไม่', 'มาก', ' ', 'ทำให้', 'เหมาะกับ', 'งาน', 'ด้าน', 'การ', 'ดูแล', 'ระบบ', ' ', '(', 'System', ' ', 'administration', ')', ' ', 'เป็น', 'อย่างยิ่ง', ' ', 'ได้', 'มี', 'การ', 'สนับสนุน', 'ภาษา', 'ไพ', 'ทอน', 'โดย', 'เป็น', 'ส่วนหนึ่ง', 'ของ', 'ระบบปฏิบัติการ', 'ยู', 'นิ', 'กซ์,', ' ', 'ลิ', 'นุ', 'กซ์', ' ', 'และ', 'สามารถ', 'ติดตั้ง', 'ให้', 'ทำงาน', 'เป็น', 'ภาษา', 'สคริปต์', 'ของ', 'วิน', 'โด', 'ว', 'ส', '์', ' ', 'ผ่าน', 'ระบบ', ' ', 'en', ':', 'Windows', ' ', 'Script', ' ', 'Host', ' ', 'ได้', 'อีกด้วย']\n",
      "[]\n",
      "['ไวยากรณ์', 'ที่', 'อ่าน', 'ง่าย']\n",
      "['ไวยากรณ์', 'ของ', 'ไพ', 'ทอน', 'ได้', 'กำ', 'จัดการ', 'ใช้', 'สัญลักษณ์', 'ที่', 'ใช้', 'ใน', 'การ', 'แบ่ง', 'บล็อก', 'ของ', 'โปรแกรม', ' ', 'และ', 'ใช้', 'การย่อหน้า', 'แทน', ' ', 'ทำให้', 'สามารถ', 'อ่าน', 'โปรแกรม', 'ที่', 'เขียน', 'ได้', 'ง่าย', ' ', 'นอกจากนั้น', 'ยัง', 'มี', 'การ', 'สนับสนุน', 'การเขียน', ' ', 'docstring', ' ', 'ซึ่ง', 'เป็น', 'ข้อความ', 'สั้น', 'ๆ', ' ', 'ที่', 'ใช้', 'อธิบาย', 'การทำงาน', 'ของ', 'ฟังก์ชัน', ',', ' ', 'คลาส', ',', ' ', 'และ', 'โม', 'ดู', 'ล', 'อีกด้วย']\n",
      "[]\n",
      "['ความ', 'เป็น', 'ภาษา', 'กาว']\n",
      "['ไพ', 'ทอน', 'เป็น', 'ภาษา', 'กาว', ' ', '(', 'Glue', ' ', 'Language', ')', ' ', 'ได้', 'อย่างดี', 'เนื่องจาก', 'สามารถ', 'เรียก', 'ใช้', 'ภาษา', 'โปรแกรม', 'อื่นๆ', ' ', 'ได้', 'หลาย', 'ภาษา', ' ', 'ทำให้', 'เหมาะ', 'ที่จะ', 'ใช้', 'เขียน', 'เพื่อ', 'ประสานงาน', 'โปรแกรม', 'ที่', 'เขียน', 'ใน', 'ภาษา', 'ต่างกัน', 'ได้']\n"
     ]
    }
   ],
   "source": [
    "f = open('thaitext.txt', encoding='utf8')\n",
    "for line in f:\n",
    "    line = line.strip()\n",
    "    #print(line)\n",
    "    print(pythainlp.word_tokenize(line))\n",
    "    #print(pythainlp.word_tokenize(line,engine='mm'))"
   ]
  },
  {
   "cell_type": "code",
   "execution_count": null,
   "metadata": {
    "collapsed": true
   },
   "outputs": [],
   "source": []
  }
 ],
 "metadata": {
  "kernelspec": {
   "display_name": "Python 3",
   "language": "python",
   "name": "python3"
  },
  "language_info": {
   "codemirror_mode": {
    "name": "ipython",
    "version": 3
   },
   "file_extension": ".py",
   "mimetype": "text/x-python",
   "name": "python",
   "nbconvert_exporter": "python",
   "pygments_lexer": "ipython3",
   "version": "3.6.1"
  }
 },
 "nbformat": 4,
 "nbformat_minor": 2
}
