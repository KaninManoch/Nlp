{
 "cells": [
  {
   "cell_type": "markdown",
   "metadata": {},
   "source": [
    "### Processing RSS Feeds"
   ]
  },
  {
   "cell_type": "code",
   "execution_count": 15,
   "metadata": {},
   "outputs": [
    {
     "name": "stdout",
     "output_type": "stream",
     "text": [
      "Language Log\n",
      "13\n",
      "Precious Isle Taiwan\n",
      "<p>From the Twitter account of @zhaoxunlinghun:</p>\n",
      "<blockquote class=\"twitter-tweet\" data-width=\"500\" data-dnt=\"true\">\n",
      "<p lang=\"zh\" dir=\"ltr\">喝酒前是寶島！<br />喝翻了以後是臺灣╮(╯_╰)╭ <a href=\"https://t.co/JDU2rD25i8\">pic.twitter.com/JDU2rD25i8</a></p>\n",
      "<p>&mdash; 找尋失去的靈魂 (@zhaoxunlinghun) <a href=\"https://twitter.com/zhaoxunlinghun/status/966938465106509825?ref_src=twsrc%5Etfw\">February 23, 2018</a></p></blockquote>\n",
      "<p><script async src=\"https://platform.twitter.com/widgets.js\" charset=\"utf-8\"></script></p>\n",
      "['From', 'the', 'Twitter', 'account', 'of', '@', 'zhaoxunlinghun', ':', '喝酒前是寶島！喝翻了以後是臺灣╮', '(', '╯_╰', ')', '╭', 'pic.twitter.com/JDU2rD25i8', '—', '找尋失去的靈魂', '(', '@', 'zhaoxunlinghun', ')', 'February', '23', ',', '2018', 'The', 'large', ',', 'calligraphic', 'characters', 'on', 'the', 'bottle', 'to', 'the', 'right', 'read', ':', 'Bǎodǎo', '寶島', '(', '``', 'Precious', 'Isle', ';', 'Treasure', 'Island', \"''\", ')', 'With', 'the', 'bottle', 'turned', 'upside', 'down', 'as', 'on', 'the', 'left', ',', 'the', 'characters', 'now', 'read', ':', 'Táiwān', '臺灣', '(', '``', 'Taiwan', \"''\", ')', '.', 'Note', 'that', 'the', 'owner', 'of', 'this', 'Twitter', 'account', ',', 'Su', 'Bing', ',', 'features', 'on', 'his', 'logo', 'the', 'term', 'dúlì', '獨立', '(', '``', 'independence', \"''\", ')', ',', 'which', 'we', 'encountered', 'just', 'two', 'days', 'ago', 'in', 'this', 'post', ':', \"''\", 'Taiwan', 'independence', 'posters', 'in', 'polysyllabic', 'characters', \"''\", '(', '2/21/18', ')', 'For', 'the', 'name', '``', 'Taiwan', \"''\", ',', 'see', 'the', 'explanations', 'in', 'these', 'posts', ':', \"''\", 'The', 'sociolinguistics', 'of', 'the', 'Chinese', 'script', \"''\", '(', '8/20/17', ')', \"''\", 'Water', 'control', \"''\", '(', '5/30/15', ')', \"''\", 'The', 'Opacity', 'and', 'Difficulty', 'of', 'the', 'Chinese', 'Script', \"''\", '(', '9/18/08', ')', \"''\", 'Vitally', 'worst', ':', \"'Chinese\", \"'\", 'sounds', 'like', \"'to\", 'tear', 'you', 'to', 'die', \"'\", \"''\", '(', '4/7/07', ')', \"''\", 'How', 'to', 'Forget', 'Your', 'Mother', 'Tongue', 'and', 'Remember', 'Your', 'National', 'Language', \"''\", '[', 'h.t', '.', 'Jichang', 'Lulu', ']']\n"
     ]
    },
    {
     "name": "stderr",
     "output_type": "stream",
     "text": [
      "C:\\Users\\ASUS\\Anaconda3\\lib\\site-packages\\bs4\\__init__.py:181: UserWarning: No parser was explicitly specified, so I'm using the best available HTML parser for this system (\"lxml\"). This usually isn't a problem, but if you run this code on another system, or in a different virtual environment, it may use a different parser and behave differently.\n",
      "\n",
      "The code that caused this warning is on line 193 of the file C:\\Users\\ASUS\\Anaconda3\\lib\\runpy.py. To get rid of this warning, change code that looks like this:\n",
      "\n",
      " BeautifulSoup(YOUR_MARKUP})\n",
      "\n",
      "to this:\n",
      "\n",
      " BeautifulSoup(YOUR_MARKUP, \"lxml\")\n",
      "\n",
      "  markup_type=markup_type))\n"
     ]
    }
   ],
   "source": [
    "import feedparser\n",
    "from bs4 import BeautifulSoup\n",
    "from nltk import word_tokenize\n",
    "llog = feedparser.parse(\"http://languagelog.ldc.upenn.edu/nll/?feed=atom\")\n",
    "print(llog['feed']['title'])\n",
    "print(len(llog.entries))\n",
    "\n",
    "post = llog.entries[5]\n",
    "print(post.title)\n",
    "\n",
    "content = post.content[0].value\n",
    "print(content[:500])\n",
    "\n",
    "raw = BeautifulSoup(content,'html').get_text()\n",
    "words = word_tokenize(raw)\n",
    "print(words)"
   ]
  },
  {
   "cell_type": "code",
   "execution_count": null,
   "metadata": {
    "collapsed": true
   },
   "outputs": [],
   "source": []
  }
 ],
 "metadata": {
  "kernelspec": {
   "display_name": "Python 3",
   "language": "python",
   "name": "python3"
  }
 },
 "nbformat": 4,
 "nbformat_minor": 2
}
